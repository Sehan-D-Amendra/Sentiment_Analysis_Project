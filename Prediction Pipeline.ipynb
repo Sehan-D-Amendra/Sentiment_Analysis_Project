{
 "cells": [
  {
   "cell_type": "code",
   "execution_count": 23,
   "id": "660414fd-40b1-4394-b41e-a3a72d45464c",
   "metadata": {},
   "outputs": [],
   "source": [
    "import numpy as np\n",
    "import pandas as pd"
   ]
  },
  {
   "cell_type": "code",
   "execution_count": 24,
   "id": "7b451667-0ce3-479e-a1ea-2b2a408310ed",
   "metadata": {},
   "outputs": [],
   "source": [
    "import re\n",
    "import string"
   ]
  },
  {
   "cell_type": "code",
   "execution_count": 25,
   "id": "928439a7-9909-4c4b-bc5f-e4ac53b48807",
   "metadata": {},
   "outputs": [],
   "source": [
    "import pickle"
   ]
  },
  {
   "cell_type": "code",
   "execution_count": 26,
   "id": "f2a0fab3-1987-44e0-866f-c902fd86d0ea",
   "metadata": {},
   "outputs": [
    {
     "name": "stderr",
     "output_type": "stream",
     "text": [
      "C:\\Users\\User\\Desktop\\Sentiment_Analysis_Project\\env\\Lib\\site-packages\\sklearn\\base.py:376: InconsistentVersionWarning: Trying to unpickle estimator LogisticRegression from version 1.2.2 when using version 1.5.0. This might lead to breaking code or invalid results. Use at your own risk. For more info please refer to:\n",
      "https://scikit-learn.org/stable/model_persistence.html#security-maintainability-limitations\n",
      "  warnings.warn(\n"
     ]
    }
   ],
   "source": [
    "with open('static/model/model.pickle', 'rb') as f:\n",
    "    model = pickle.load(f)"
   ]
  },
  {
   "cell_type": "code",
   "execution_count": 27,
   "id": "a27dd3dd-fee3-4cc3-ba26-5d1c5be537d3",
   "metadata": {},
   "outputs": [],
   "source": [
    "with open('static/model/corpora/stopwords/english', 'r') as file:\n",
    "    sw = file.read().splitlines()\n"
   ]
  },
  {
   "cell_type": "code",
   "execution_count": 28,
   "id": "3c36166b-375a-40a0-aa20-b8a0490ded84",
   "metadata": {},
   "outputs": [],
   "source": [
    "vocab = pd.read_csv('static/model/vocabulary.txt', header = None)\n",
    "tokens = vocab[0].tolist()"
   ]
  },
  {
   "cell_type": "code",
   "execution_count": 29,
   "id": "d7d4341f-683a-4584-8709-d7923864fb36",
   "metadata": {},
   "outputs": [],
   "source": [
    "def remove_punctuations(text):\n",
    "    for punctuation in string.punctuation:\n",
    "        text = text.replace(punctuation, '')\n",
    "    return text"
   ]
  },
  {
   "cell_type": "code",
   "execution_count": 30,
   "id": "75d6781b-051c-4c25-b1b5-82a9a0dee811",
   "metadata": {},
   "outputs": [],
   "source": [
    "from nltk.stem import PorterStemmer\n",
    "ps = PorterStemmer()"
   ]
  },
  {
   "cell_type": "code",
   "execution_count": 31,
   "id": "0b949b3b-a0b2-43e9-ae2f-321bc963eafa",
   "metadata": {},
   "outputs": [
    {
     "name": "stderr",
     "output_type": "stream",
     "text": [
      "<>:6: SyntaxWarning: invalid escape sequence '\\d'\n",
      "<>:6: SyntaxWarning: invalid escape sequence '\\d'\n",
      "C:\\Users\\User\\AppData\\Local\\Temp\\ipykernel_1988\\784901763.py:6: SyntaxWarning: invalid escape sequence '\\d'\n",
      "  data[\"tweet\"] = data[\"tweet\"].str.replace('\\d+', '', regex=True)\n"
     ]
    }
   ],
   "source": [
    "def preprocessing(text):\n",
    "    data = pd.DataFrame([text], columns=['tweet'])\n",
    "    data[\"tweet\"] = data[\"tweet\"].apply(lambda x: \" \".join(x.lower() for x in x.split()))\n",
    "    data[\"tweet\"] = data[\"tweet\"].apply(lambda x: \" \".join(re.sub(r'^https?:\\/\\/.*[\\r\\n]*', '', x, flags=re.MULTILINE) for x in x.split())) \n",
    "    data[\"tweet\"] = data[\"tweet\"].apply(remove_punctuations)\n",
    "    data[\"tweet\"] = data[\"tweet\"].str.replace('\\d+', '', regex=True)\n",
    "    data[\"tweet\"] = data[\"tweet\"].apply(lambda x: \" \".join(x for x in x.split()if x not in sw ))\n",
    "    data[\"tweet\"] = data[\"tweet\"].apply(lambda x: \" \".join(ps.stem(x) for x in x.split()))\n",
    "    return data[\"tweet\"]"
   ]
  },
  {
   "cell_type": "code",
   "execution_count": 32,
   "id": "63cbdcea-1ba3-48d6-b163-5f6c5d69a747",
   "metadata": {},
   "outputs": [],
   "source": [
    "def vectorizer(ds, vocabulary):\n",
    "    vectorized_list = []\n",
    "\n",
    "    for sentence in ds:\n",
    "        sentence_list = np.zeros(len(vocabulary))\n",
    "\n",
    "        for i in range(len(vocabulary)):\n",
    "            if vocabulary[i] in sentence.split():\n",
    "                sentence_list[i] = 1\n",
    "\n",
    "        vectorized_list.append(sentence_list)\n",
    "    vectorized_list_new = np.asarray(vectorized_list, dtype=np.float32)\n",
    "\n",
    "    return vectorized_list_new"
   ]
  },
  {
   "cell_type": "code",
   "execution_count": 60,
   "id": "14a5a04a-a964-4e80-99f5-647f59502b7a",
   "metadata": {},
   "outputs": [],
   "source": [
    "def get_predictions(vectorized_text):\n",
    "    prediction = model.predict(vectorized_text)\n",
    "    if prediction == 1:\n",
    "        return \"negative\"\n",
    "    else:\n",
    "        return 'positive'"
   ]
  },
  {
   "cell_type": "code",
   "execution_count": 61,
   "id": "dd990874-2667-4330-95b2-d8eee2704bc6",
   "metadata": {},
   "outputs": [],
   "source": [
    "txt1 = \"Awesome product. i love it its very good\"\n",
    "preprocessed_txt = preprocessing(txt1)\n",
    "vectorizer_text = vectorizer(preprocessed_txt, tokens)\n",
    "prediction1 = get_predictions(vectorizer_text)"
   ]
  },
  {
   "cell_type": "code",
   "execution_count": 62,
   "id": "d870d4d0-fdb6-4844-9fdf-a126eeb7b89b",
   "metadata": {},
   "outputs": [
    {
     "data": {
      "text/plain": [
       "'positive'"
      ]
     },
     "execution_count": 62,
     "metadata": {},
     "output_type": "execute_result"
    }
   ],
   "source": [
    "prediction1"
   ]
  },
  {
   "cell_type": "code",
   "execution_count": 58,
   "id": "c44acffe-13e7-4849-a50f-fbc35612eaf1",
   "metadata": {},
   "outputs": [],
   "source": [
    "txt2 = \"Awesome product. i love it\"\n",
    "preprocessed_txt2 = preprocessing(txt2)\n",
    "vectorizer_text2 = vectorizer(preprocessed_txt2, tokens)\n",
    "prediction2 = model.predict(vectorizer_text2)"
   ]
  },
  {
   "cell_type": "code",
   "execution_count": 59,
   "id": "261b4768-d294-46d5-83ea-7a9a8c61e7a2",
   "metadata": {},
   "outputs": [
    {
     "data": {
      "text/plain": [
       "array([0], dtype=int64)"
      ]
     },
     "execution_count": 59,
     "metadata": {},
     "output_type": "execute_result"
    }
   ],
   "source": [
    "prediction2"
   ]
  },
  {
   "cell_type": "code",
   "execution_count": null,
   "id": "ce3bee3a-72c7-48ec-b6ea-862ac8ef476d",
   "metadata": {},
   "outputs": [],
   "source": []
  }
 ],
 "metadata": {
  "kernelspec": {
   "display_name": "Python 3 (ipykernel)",
   "language": "python",
   "name": "python3"
  },
  "language_info": {
   "codemirror_mode": {
    "name": "ipython",
    "version": 3
   },
   "file_extension": ".py",
   "mimetype": "text/x-python",
   "name": "python",
   "nbconvert_exporter": "python",
   "pygments_lexer": "ipython3",
   "version": "3.12.3"
  }
 },
 "nbformat": 4,
 "nbformat_minor": 5
}
