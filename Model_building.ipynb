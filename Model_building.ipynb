{
 "cells": [
  {
   "cell_type": "code",
   "execution_count": 1,
   "id": "3e5bea8a-0a75-4b7f-ae33-08e7a64e5ef9",
   "metadata": {},
   "outputs": [],
   "source": [
    "import numpy as np\n",
    "import pandas as pd\n",
    "import matplotlib.pyplot as plt"
   ]
  },
  {
   "cell_type": "code",
   "execution_count": 4,
   "id": "cba1c26c-8a0e-44ad-bdb7-d6d2389c5db8",
   "metadata": {},
   "outputs": [],
   "source": [
    "data = pd.read_csv('data/sentiment_analysis.csv')"
   ]
  },
  {
   "cell_type": "code",
   "execution_count": 5,
   "id": "53d48599-9775-4991-91c0-9aa28384e7aa",
   "metadata": {},
   "outputs": [
    {
     "data": {
      "text/html": [
       "<div>\n",
       "<style scoped>\n",
       "    .dataframe tbody tr th:only-of-type {\n",
       "        vertical-align: middle;\n",
       "    }\n",
       "\n",
       "    .dataframe tbody tr th {\n",
       "        vertical-align: top;\n",
       "    }\n",
       "\n",
       "    .dataframe thead th {\n",
       "        text-align: right;\n",
       "    }\n",
       "</style>\n",
       "<table border=\"1\" class=\"dataframe\">\n",
       "  <thead>\n",
       "    <tr style=\"text-align: right;\">\n",
       "      <th></th>\n",
       "      <th>id</th>\n",
       "      <th>label</th>\n",
       "      <th>tweet</th>\n",
       "    </tr>\n",
       "  </thead>\n",
       "  <tbody>\n",
       "    <tr>\n",
       "      <th>0</th>\n",
       "      <td>1</td>\n",
       "      <td>0</td>\n",
       "      <td>#fingerprint #Pregnancy Test https://goo.gl/h1...</td>\n",
       "    </tr>\n",
       "    <tr>\n",
       "      <th>1</th>\n",
       "      <td>2</td>\n",
       "      <td>0</td>\n",
       "      <td>Finally a transparant silicon case ^^ Thanks t...</td>\n",
       "    </tr>\n",
       "    <tr>\n",
       "      <th>2</th>\n",
       "      <td>3</td>\n",
       "      <td>0</td>\n",
       "      <td>We love this! Would you go? #talk #makememorie...</td>\n",
       "    </tr>\n",
       "    <tr>\n",
       "      <th>3</th>\n",
       "      <td>4</td>\n",
       "      <td>0</td>\n",
       "      <td>I'm wired I know I'm George I was made that wa...</td>\n",
       "    </tr>\n",
       "    <tr>\n",
       "      <th>4</th>\n",
       "      <td>5</td>\n",
       "      <td>1</td>\n",
       "      <td>What amazing service! Apple won't even talk to...</td>\n",
       "    </tr>\n",
       "  </tbody>\n",
       "</table>\n",
       "</div>"
      ],
      "text/plain": [
       "   id  label                                              tweet\n",
       "0   1      0  #fingerprint #Pregnancy Test https://goo.gl/h1...\n",
       "1   2      0  Finally a transparant silicon case ^^ Thanks t...\n",
       "2   3      0  We love this! Would you go? #talk #makememorie...\n",
       "3   4      0  I'm wired I know I'm George I was made that wa...\n",
       "4   5      1  What amazing service! Apple won't even talk to..."
      ]
     },
     "execution_count": 5,
     "metadata": {},
     "output_type": "execute_result"
    }
   ],
   "source": [
    "data.head()\n"
   ]
  },
  {
   "cell_type": "code",
   "execution_count": 6,
   "id": "16ac77fc-c0ae-470f-9a46-1669cacecd3b",
   "metadata": {},
   "outputs": [
    {
     "data": {
      "text/plain": [
       "(7920, 3)"
      ]
     },
     "execution_count": 6,
     "metadata": {},
     "output_type": "execute_result"
    }
   ],
   "source": [
    "data.shape\n"
   ]
  },
  {
   "cell_type": "code",
   "execution_count": 7,
   "id": "b90745eb-5ce6-42fb-a48a-ec88365ae266",
   "metadata": {},
   "outputs": [
    {
     "data": {
      "text/plain": [
       "0       False\n",
       "1       False\n",
       "2       False\n",
       "3       False\n",
       "4       False\n",
       "        ...  \n",
       "7915    False\n",
       "7916    False\n",
       "7917    False\n",
       "7918    False\n",
       "7919    False\n",
       "Length: 7920, dtype: bool"
      ]
     },
     "execution_count": 7,
     "metadata": {},
     "output_type": "execute_result"
    }
   ],
   "source": [
    "data.duplicated()"
   ]
  },
  {
   "cell_type": "code",
   "execution_count": 8,
   "id": "a014ef24-efc2-4f1e-bbd0-3a899cce3a8d",
   "metadata": {},
   "outputs": [
    {
     "data": {
      "text/plain": [
       "0"
      ]
     },
     "execution_count": 8,
     "metadata": {},
     "output_type": "execute_result"
    }
   ],
   "source": [
    "data.duplicated().sum()"
   ]
  },
  {
   "cell_type": "code",
   "execution_count": 9,
   "id": "16b35050-7b0f-45e5-b5e7-537e25ac3ae5",
   "metadata": {},
   "outputs": [
    {
     "data": {
      "text/plain": [
       "id       0\n",
       "label    0\n",
       "tweet    0\n",
       "dtype: int64"
      ]
     },
     "execution_count": 9,
     "metadata": {},
     "output_type": "execute_result"
    }
   ],
   "source": [
    "data.isnull().sum()"
   ]
  },
  {
   "cell_type": "code",
   "execution_count": 10,
   "id": "7390fa7f-f033-4250-b676-745dd7a6a397",
   "metadata": {},
   "outputs": [],
   "source": [
    "#text preprocessing"
   ]
  },
  {
   "cell_type": "code",
   "execution_count": 11,
   "id": "ec92856e-3b5d-4c53-904e-7b50a6f046ff",
   "metadata": {},
   "outputs": [],
   "source": [
    "import re\n",
    "import string"
   ]
  },
  {
   "cell_type": "code",
   "execution_count": 12,
   "id": "38785e33-c660-475c-97f5-e090ef645eca",
   "metadata": {},
   "outputs": [
    {
     "data": {
      "text/plain": [
       "0    #fingerprint #Pregnancy Test https://goo.gl/h1...\n",
       "1    Finally a transparant silicon case ^^ Thanks t...\n",
       "2    We love this! Would you go? #talk #makememorie...\n",
       "3    I'm wired I know I'm George I was made that wa...\n",
       "4    What amazing service! Apple won't even talk to...\n",
       "Name: tweet, dtype: object"
      ]
     },
     "execution_count": 12,
     "metadata": {},
     "output_type": "execute_result"
    }
   ],
   "source": [
    "data[\"tweet\"].head(5)"
   ]
  },
  {
   "cell_type": "code",
   "execution_count": 15,
   "id": "8029b296-3728-49af-88ea-56c47f31058e",
   "metadata": {},
   "outputs": [],
   "source": [
    "#convert upper to lower\n",
    "\n",
    "data[\"tweet\"] = data[\"tweet\"].apply(lambda x: \" \".join(x.lower() for x in x.split()))"
   ]
  },
  {
   "cell_type": "code",
   "execution_count": 16,
   "id": "e6f455b5-1039-4d50-b2c1-6b253084e67c",
   "metadata": {},
   "outputs": [
    {
     "data": {
      "text/plain": [
       "0    #fingerprint #pregnancy test https://goo.gl/h1...\n",
       "1    finally a transparant silicon case ^^ thanks t...\n",
       "2    we love this! would you go? #talk #makememorie...\n",
       "3    i'm wired i know i'm george i was made that wa...\n",
       "4    what amazing service! apple won't even talk to...\n",
       "Name: tweet, dtype: object"
      ]
     },
     "execution_count": 16,
     "metadata": {},
     "output_type": "execute_result"
    }
   ],
   "source": [
    "data[\"tweet\"].head(5)"
   ]
  },
  {
   "cell_type": "code",
   "execution_count": 17,
   "id": "614f0d6a-d61e-4be8-9569-746ed8726822",
   "metadata": {},
   "outputs": [],
   "source": [
    "#remove links\n",
    "\n",
    "data[\"tweet\"] = data[\"tweet\"].apply(lambda x: \" \".join(re.sub(r'^https?:\\/\\/.*[\\r\\n]*', '', x, flags=re.MULTILINE) for x in x.split()))               "
   ]
  },
  {
   "cell_type": "code",
   "execution_count": 18,
   "id": "706736eb-6232-4aca-8e13-389fa22f5df1",
   "metadata": {},
   "outputs": [
    {
     "data": {
      "text/plain": [
       "0    #fingerprint #pregnancy test  #android #apps #...\n",
       "1    finally a transparant silicon case ^^ thanks t...\n",
       "2    we love this! would you go? #talk #makememorie...\n",
       "3    i'm wired i know i'm george i was made that wa...\n",
       "4    what amazing service! apple won't even talk to...\n",
       "Name: tweet, dtype: object"
      ]
     },
     "execution_count": 18,
     "metadata": {},
     "output_type": "execute_result"
    }
   ],
   "source": [
    "data[\"tweet\"].head(5)"
   ]
  },
  {
   "cell_type": "code",
   "execution_count": 19,
   "id": "16a82d47-f0ce-4608-a1c7-6ee57d843c07",
   "metadata": {},
   "outputs": [
    {
     "data": {
      "text/plain": [
       "'!\"#$%&\\'()*+,-./:;<=>?@[\\\\]^_`{|}~'"
      ]
     },
     "execution_count": 19,
     "metadata": {},
     "output_type": "execute_result"
    }
   ],
   "source": [
    "# remove punctuations\n",
    "string.punctuation\n"
   ]
  },
  {
   "cell_type": "code",
   "execution_count": 21,
   "id": "6f799f29-5bdc-47b2-8fdd-d1770f1c3c45",
   "metadata": {},
   "outputs": [],
   "source": [
    "def remove_punctuations(text):\n",
    "    for punctuation in string.punctuation:\n",
    "        text = text.replace(punctuation, '')\n",
    "    return text\n",
    "data[\"tweet\"] = data[\"tweet\"].apply(remove_punctuations)"
   ]
  },
  {
   "cell_type": "code",
   "execution_count": 22,
   "id": "7d84469a-8a39-4afb-a8bc-bdf45ef2c382",
   "metadata": {},
   "outputs": [
    {
     "data": {
      "text/plain": [
       "0    fingerprint pregnancy test  android apps beaut...\n",
       "1    finally a transparant silicon case  thanks to ...\n",
       "2    we love this would you go talk makememories un...\n",
       "3    im wired i know im george i was made that way ...\n",
       "4    what amazing service apple wont even talk to m...\n",
       "Name: tweet, dtype: object"
      ]
     },
     "execution_count": 22,
     "metadata": {},
     "output_type": "execute_result"
    }
   ],
   "source": [
    "data[\"tweet\"].head(5)"
   ]
  },
  {
   "cell_type": "code",
   "execution_count": 23,
   "id": "fcc42df4-cb70-4d4e-9693-6a136658d8e5",
   "metadata": {},
   "outputs": [
    {
     "data": {
      "text/plain": [
       "7910    perfect match instagood applewatch red instagr...\n",
       "7911    i am completely in love with the new iphone em...\n",
       "7912    tune in turn on drop out  gtd in one app  mobi...\n",
       "7913    ok so my galaxy crashed after one day now i ha...\n",
       "7914    gain followers rt this must follow me i follow...\n",
       "7915    live out loud lol liveoutloud selfie smile son...\n",
       "7916    we would like to wish you an amazing day make ...\n",
       "7917    helping my lovely 90 year old neighbor with he...\n",
       "7918    finally got my smart pocket wifi stay connecte...\n",
       "7919    apple barcelona apple store bcn barcelona trav...\n",
       "Name: tweet, dtype: object"
      ]
     },
     "execution_count": 23,
     "metadata": {},
     "output_type": "execute_result"
    }
   ],
   "source": [
    "data[\"tweet\"].tail(10)"
   ]
  },
  {
   "cell_type": "code",
   "execution_count": 27,
   "id": "a28d230f-6144-4eea-adfd-037c1d45c25a",
   "metadata": {},
   "outputs": [
    {
     "name": "stderr",
     "output_type": "stream",
     "text": [
      "<>:1: SyntaxWarning: invalid escape sequence '\\d'\n",
      "<>:1: SyntaxWarning: invalid escape sequence '\\d'\n",
      "C:\\Users\\User\\AppData\\Local\\Temp\\ipykernel_24628\\910477839.py:1: SyntaxWarning: invalid escape sequence '\\d'\n",
      "  data[\"tweet\"] = data[\"tweet\"].str.replace('\\d+', '', regex=True)\n"
     ]
    }
   ],
   "source": [
    "#remove numbers\n",
    "\n",
    "data[\"tweet\"] = data[\"tweet\"].str.replace('\\d+', '', regex=True)"
   ]
  },
  {
   "cell_type": "code",
   "execution_count": 28,
   "id": "ece2dafd-5db4-4b1a-9ad7-a5166d3af4be",
   "metadata": {},
   "outputs": [
    {
     "data": {
      "text/plain": [
       "7910    perfect match instagood applewatch red instagr...\n",
       "7911    i am completely in love with the new iphone em...\n",
       "7912    tune in turn on drop out  gtd in one app  mobi...\n",
       "7913    ok so my galaxy crashed after one day now i ha...\n",
       "7914    gain followers rt this must follow me i follow...\n",
       "7915    live out loud lol liveoutloud selfie smile son...\n",
       "7916    we would like to wish you an amazing day make ...\n",
       "7917    helping my lovely  year old neighbor with her ...\n",
       "7918    finally got my smart pocket wifi stay connecte...\n",
       "7919    apple barcelona apple store bcn barcelona trav...\n",
       "Name: tweet, dtype: object"
      ]
     },
     "execution_count": 28,
     "metadata": {},
     "output_type": "execute_result"
    }
   ],
   "source": [
    "data[\"tweet\"].tail(10)"
   ]
  },
  {
   "cell_type": "code",
   "execution_count": 32,
   "id": "dbcf956f-beb9-4708-9a55-a3b57c8d541b",
   "metadata": {},
   "outputs": [
    {
     "name": "stdout",
     "output_type": "stream",
     "text": [
      "Collecting nltk\n",
      "  Downloading nltk-3.8.1-py3-none-any.whl.metadata (2.8 kB)\n",
      "Collecting click (from nltk)\n",
      "  Using cached click-8.1.7-py3-none-any.whl.metadata (3.0 kB)\n",
      "Collecting joblib (from nltk)\n",
      "  Using cached joblib-1.4.2-py3-none-any.whl.metadata (5.4 kB)\n",
      "Collecting regex>=2021.8.3 (from nltk)\n",
      "  Downloading regex-2024.5.15-cp312-cp312-win_amd64.whl.metadata (41 kB)\n",
      "     ---------------------------------------- 0.0/42.0 kB ? eta -:--:--\n",
      "     --------- ------------------------------ 10.2/42.0 kB ? eta -:--:--\n",
      "     --------------------------- ---------- 30.7/42.0 kB 262.6 kB/s eta 0:00:01\n",
      "     -------------------------------------- 42.0/42.0 kB 291.1 kB/s eta 0:00:00\n",
      "Requirement already satisfied: tqdm in c:\\users\\user\\desktop\\sentiment_analysis_project\\env\\lib\\site-packages (from nltk) (4.66.4)\n",
      "Requirement already satisfied: colorama in c:\\users\\user\\desktop\\sentiment_analysis_project\\env\\lib\\site-packages (from click->nltk) (0.4.6)\n",
      "Downloading nltk-3.8.1-py3-none-any.whl (1.5 MB)\n",
      "   ---------------------------------------- 0.0/1.5 MB ? eta -:--:--\n",
      "   - -------------------------------------- 0.0/1.5 MB 960.0 kB/s eta 0:00:02\n",
      "   -- ------------------------------------- 0.1/1.5 MB 919.0 kB/s eta 0:00:02\n",
      "   -- ------------------------------------- 0.1/1.5 MB 819.2 kB/s eta 0:00:02\n",
      "   ----- ---------------------------------- 0.2/1.5 MB 1.1 MB/s eta 0:00:02\n",
      "   ------ --------------------------------- 0.3/1.5 MB 1.2 MB/s eta 0:00:02\n",
      "   --------- ------------------------------ 0.4/1.5 MB 1.3 MB/s eta 0:00:01\n",
      "   ---------- ----------------------------- 0.4/1.5 MB 1.2 MB/s eta 0:00:01\n",
      "   --------------- ------------------------ 0.6/1.5 MB 1.5 MB/s eta 0:00:01\n",
      "   ------------------- -------------------- 0.7/1.5 MB 1.8 MB/s eta 0:00:01\n",
      "   ---------------------- ----------------- 0.8/1.5 MB 1.8 MB/s eta 0:00:01\n",
      "   -------------------------- ------------- 1.0/1.5 MB 2.0 MB/s eta 0:00:01\n",
      "   ---------------------------- ----------- 1.1/1.5 MB 2.0 MB/s eta 0:00:01\n",
      "   --------------------------------- ------ 1.2/1.5 MB 2.1 MB/s eta 0:00:01\n",
      "   ------------------------------------- -- 1.4/1.5 MB 2.2 MB/s eta 0:00:01\n",
      "   ---------------------------------------  1.5/1.5 MB 2.2 MB/s eta 0:00:01\n",
      "   ---------------------------------------- 1.5/1.5 MB 2.1 MB/s eta 0:00:00\n",
      "Downloading regex-2024.5.15-cp312-cp312-win_amd64.whl (268 kB)\n",
      "   ---------------------------------------- 0.0/268.5 kB ? eta -:--:--\n",
      "   ------------- -------------------------- 92.2/268.5 kB 2.6 MB/s eta 0:00:01\n",
      "   ---------------------------------------- 268.5/268.5 kB 3.3 MB/s eta 0:00:00\n",
      "Using cached click-8.1.7-py3-none-any.whl (97 kB)\n",
      "Using cached joblib-1.4.2-py3-none-any.whl (301 kB)\n",
      "Installing collected packages: regex, joblib, click, nltk\n",
      "Successfully installed click-8.1.7 joblib-1.4.2 nltk-3.8.1 regex-2024.5.15\n"
     ]
    }
   ],
   "source": [
    "#remove stopwords\n",
    "!pip install nltk\n"
   ]
  },
  {
   "cell_type": "code",
   "execution_count": 34,
   "id": "23f6a1ec-254f-4ab3-9c72-cda4e7abb847",
   "metadata": {},
   "outputs": [
    {
     "name": "stderr",
     "output_type": "stream",
     "text": [
      "[nltk_data] Downloading package stopwords to static/model...\n",
      "[nltk_data]   Unzipping corpora\\stopwords.zip.\n"
     ]
    },
    {
     "data": {
      "text/plain": [
       "True"
      ]
     },
     "execution_count": 34,
     "metadata": {},
     "output_type": "execute_result"
    }
   ],
   "source": [
    "import nltk\n",
    "nltk.download('stopwords', download_dir='static/model')"
   ]
  },
  {
   "cell_type": "code",
   "execution_count": 35,
   "id": "c0866084-42c8-4649-bdb8-9fb1c87d4038",
   "metadata": {},
   "outputs": [],
   "source": [
    "with open('static/model/corpora/stopwords/english', 'r') as file:\n",
    "    sw = file.read().splitlines()\n"
   ]
  },
  {
   "cell_type": "code",
   "execution_count": 36,
   "id": "bc1a6149-70e7-4467-9a5f-e7be0562fe5e",
   "metadata": {},
   "outputs": [
    {
     "data": {
      "text/plain": [
       "['i',\n",
       " 'me',\n",
       " 'my',\n",
       " 'myself',\n",
       " 'we',\n",
       " 'our',\n",
       " 'ours',\n",
       " 'ourselves',\n",
       " 'you',\n",
       " \"you're\",\n",
       " \"you've\",\n",
       " \"you'll\",\n",
       " \"you'd\",\n",
       " 'your',\n",
       " 'yours',\n",
       " 'yourself',\n",
       " 'yourselves',\n",
       " 'he',\n",
       " 'him',\n",
       " 'his',\n",
       " 'himself',\n",
       " 'she',\n",
       " \"she's\",\n",
       " 'her',\n",
       " 'hers',\n",
       " 'herself',\n",
       " 'it',\n",
       " \"it's\",\n",
       " 'its',\n",
       " 'itself',\n",
       " 'they',\n",
       " 'them',\n",
       " 'their',\n",
       " 'theirs',\n",
       " 'themselves',\n",
       " 'what',\n",
       " 'which',\n",
       " 'who',\n",
       " 'whom',\n",
       " 'this',\n",
       " 'that',\n",
       " \"that'll\",\n",
       " 'these',\n",
       " 'those',\n",
       " 'am',\n",
       " 'is',\n",
       " 'are',\n",
       " 'was',\n",
       " 'were',\n",
       " 'be',\n",
       " 'been',\n",
       " 'being',\n",
       " 'have',\n",
       " 'has',\n",
       " 'had',\n",
       " 'having',\n",
       " 'do',\n",
       " 'does',\n",
       " 'did',\n",
       " 'doing',\n",
       " 'a',\n",
       " 'an',\n",
       " 'the',\n",
       " 'and',\n",
       " 'but',\n",
       " 'if',\n",
       " 'or',\n",
       " 'because',\n",
       " 'as',\n",
       " 'until',\n",
       " 'while',\n",
       " 'of',\n",
       " 'at',\n",
       " 'by',\n",
       " 'for',\n",
       " 'with',\n",
       " 'about',\n",
       " 'against',\n",
       " 'between',\n",
       " 'into',\n",
       " 'through',\n",
       " 'during',\n",
       " 'before',\n",
       " 'after',\n",
       " 'above',\n",
       " 'below',\n",
       " 'to',\n",
       " 'from',\n",
       " 'up',\n",
       " 'down',\n",
       " 'in',\n",
       " 'out',\n",
       " 'on',\n",
       " 'off',\n",
       " 'over',\n",
       " 'under',\n",
       " 'again',\n",
       " 'further',\n",
       " 'then',\n",
       " 'once',\n",
       " 'here',\n",
       " 'there',\n",
       " 'when',\n",
       " 'where',\n",
       " 'why',\n",
       " 'how',\n",
       " 'all',\n",
       " 'any',\n",
       " 'both',\n",
       " 'each',\n",
       " 'few',\n",
       " 'more',\n",
       " 'most',\n",
       " 'other',\n",
       " 'some',\n",
       " 'such',\n",
       " 'no',\n",
       " 'nor',\n",
       " 'not',\n",
       " 'only',\n",
       " 'own',\n",
       " 'same',\n",
       " 'so',\n",
       " 'than',\n",
       " 'too',\n",
       " 'very',\n",
       " 's',\n",
       " 't',\n",
       " 'can',\n",
       " 'will',\n",
       " 'just',\n",
       " 'don',\n",
       " \"don't\",\n",
       " 'should',\n",
       " \"should've\",\n",
       " 'now',\n",
       " 'd',\n",
       " 'll',\n",
       " 'm',\n",
       " 'o',\n",
       " 're',\n",
       " 've',\n",
       " 'y',\n",
       " 'ain',\n",
       " 'aren',\n",
       " \"aren't\",\n",
       " 'couldn',\n",
       " \"couldn't\",\n",
       " 'didn',\n",
       " \"didn't\",\n",
       " 'doesn',\n",
       " \"doesn't\",\n",
       " 'hadn',\n",
       " \"hadn't\",\n",
       " 'hasn',\n",
       " \"hasn't\",\n",
       " 'haven',\n",
       " \"haven't\",\n",
       " 'isn',\n",
       " \"isn't\",\n",
       " 'ma',\n",
       " 'mightn',\n",
       " \"mightn't\",\n",
       " 'mustn',\n",
       " \"mustn't\",\n",
       " 'needn',\n",
       " \"needn't\",\n",
       " 'shan',\n",
       " \"shan't\",\n",
       " 'shouldn',\n",
       " \"shouldn't\",\n",
       " 'wasn',\n",
       " \"wasn't\",\n",
       " 'weren',\n",
       " \"weren't\",\n",
       " 'won',\n",
       " \"won't\",\n",
       " 'wouldn',\n",
       " \"wouldn't\"]"
      ]
     },
     "execution_count": 36,
     "metadata": {},
     "output_type": "execute_result"
    }
   ],
   "source": [
    "sw"
   ]
  },
  {
   "cell_type": "code",
   "execution_count": 37,
   "id": "e93373d9-7aec-4cbb-ad79-d4adedb07b0b",
   "metadata": {},
   "outputs": [],
   "source": [
    "data[\"tweet\"] = data[\"tweet\"].apply(lambda x: \" \".join(x for x in x.split()if x not in sw ))"
   ]
  },
  {
   "cell_type": "code",
   "execution_count": 38,
   "id": "b8149662-559e-4306-98b9-faae1b2f98ae",
   "metadata": {},
   "outputs": [
    {
     "data": {
      "text/plain": [
       "7910    perfect match instagood applewatch red instagr...\n",
       "7911    completely love new iphone emojis iphone apple...\n",
       "7912    tune turn drop gtd one app mobile mind meditat...\n",
       "7913    ok galaxy crashed one day wait til monday skyr...\n",
       "7914    gain followers rt must follow follow back foll...\n",
       "7915    live loud lol liveoutloud selfie smile sony mu...\n",
       "7916    would like wish amazing day make every minute ...\n",
       "7917    helping lovely year old neighbor ipad morning ...\n",
       "7918    finally got smart pocket wifi stay connected a...\n",
       "7919    apple barcelona apple store bcn barcelona trav...\n",
       "Name: tweet, dtype: object"
      ]
     },
     "execution_count": 38,
     "metadata": {},
     "output_type": "execute_result"
    }
   ],
   "source": [
    "data[\"tweet\"].tail(10)"
   ]
  },
  {
   "cell_type": "code",
   "execution_count": 40,
   "id": "25f9a328-aa75-4b1d-a64a-2f576eaab3db",
   "metadata": {},
   "outputs": [],
   "source": [
    "#Stemming\n",
    "\n",
    "from nltk.stem import PorterStemmer\n",
    "ps = PorterStemmer()"
   ]
  },
  {
   "cell_type": "code",
   "execution_count": 41,
   "id": "6f40dc78-2933-4973-9900-7699b926f87d",
   "metadata": {},
   "outputs": [],
   "source": [
    "data[\"tweet\"] = data[\"tweet\"].apply(lambda x: \" \".join(ps.stem(x) for x in x.split()))"
   ]
  },
  {
   "cell_type": "code",
   "execution_count": 42,
   "id": "cab3dd87-8b1b-454b-8cc1-0d01ac93d8fb",
   "metadata": {},
   "outputs": [
    {
     "data": {
      "text/plain": [
       "7910    perfect match instagood applewatch red instagr...\n",
       "7911         complet love new iphon emoji iphon appl emoj\n",
       "7912    tune turn drop gtd one app mobil mind medit op...\n",
       "7913    ok galaxi crash one day wait til monday skyroc...\n",
       "7914    gain follow rt must follow follow back follow ...\n",
       "7915    live loud lol liveoutloud selfi smile soni mus...\n",
       "7916    would like wish amaz day make everi minut coun...\n",
       "7917    help love year old neighbor ipad morn made rea...\n",
       "7918    final got smart pocket wifi stay connect anyti...\n",
       "7919    appl barcelona appl store bcn barcelona travel...\n",
       "Name: tweet, dtype: object"
      ]
     },
     "execution_count": 42,
     "metadata": {},
     "output_type": "execute_result"
    }
   ],
   "source": [
    "data[\"tweet\"].tail(10)"
   ]
  },
  {
   "cell_type": "markdown",
   "id": "977ecb06-ea55-4834-8fb5-9299de6eafdd",
   "metadata": {},
   "source": [
    "#Build Vacabulary"
   ]
  },
  {
   "cell_type": "code",
   "execution_count": 46,
   "id": "59677f11-ffc2-4614-ac05-755a121dee3c",
   "metadata": {},
   "outputs": [],
   "source": [
    "from collections import Counter\n",
    "vocab = Counter()"
   ]
  },
  {
   "cell_type": "code",
   "execution_count": 49,
   "id": "c9faf764-0449-41d5-9299-60bbcafeec1b",
   "metadata": {},
   "outputs": [
    {
     "data": {
      "text/html": [
       "<div>\n",
       "<style scoped>\n",
       "    .dataframe tbody tr th:only-of-type {\n",
       "        vertical-align: middle;\n",
       "    }\n",
       "\n",
       "    .dataframe tbody tr th {\n",
       "        vertical-align: top;\n",
       "    }\n",
       "\n",
       "    .dataframe thead th {\n",
       "        text-align: right;\n",
       "    }\n",
       "</style>\n",
       "<table border=\"1\" class=\"dataframe\">\n",
       "  <thead>\n",
       "    <tr style=\"text-align: right;\">\n",
       "      <th></th>\n",
       "      <th>id</th>\n",
       "      <th>label</th>\n",
       "      <th>tweet</th>\n",
       "    </tr>\n",
       "  </thead>\n",
       "  <tbody>\n",
       "    <tr>\n",
       "      <th>0</th>\n",
       "      <td>1</td>\n",
       "      <td>0</td>\n",
       "      <td>fingerprint pregnanc test android app beauti c...</td>\n",
       "    </tr>\n",
       "    <tr>\n",
       "      <th>1</th>\n",
       "      <td>2</td>\n",
       "      <td>0</td>\n",
       "      <td>final transpar silicon case thank uncl yay son...</td>\n",
       "    </tr>\n",
       "    <tr>\n",
       "      <th>2</th>\n",
       "      <td>3</td>\n",
       "      <td>0</td>\n",
       "      <td>love would go talk makememori unplug relax iph...</td>\n",
       "    </tr>\n",
       "    <tr>\n",
       "      <th>3</th>\n",
       "      <td>4</td>\n",
       "      <td>0</td>\n",
       "      <td>im wire know im georg made way iphon cute dave...</td>\n",
       "    </tr>\n",
       "    <tr>\n",
       "      <th>4</th>\n",
       "      <td>5</td>\n",
       "      <td>1</td>\n",
       "      <td>amaz servic appl wont even talk question unles...</td>\n",
       "    </tr>\n",
       "    <tr>\n",
       "      <th>...</th>\n",
       "      <td>...</td>\n",
       "      <td>...</td>\n",
       "      <td>...</td>\n",
       "    </tr>\n",
       "    <tr>\n",
       "      <th>7915</th>\n",
       "      <td>7916</td>\n",
       "      <td>0</td>\n",
       "      <td>live loud lol liveoutloud selfi smile soni mus...</td>\n",
       "    </tr>\n",
       "    <tr>\n",
       "      <th>7916</th>\n",
       "      <td>7917</td>\n",
       "      <td>0</td>\n",
       "      <td>would like wish amaz day make everi minut coun...</td>\n",
       "    </tr>\n",
       "    <tr>\n",
       "      <th>7917</th>\n",
       "      <td>7918</td>\n",
       "      <td>0</td>\n",
       "      <td>help love year old neighbor ipad morn made rea...</td>\n",
       "    </tr>\n",
       "    <tr>\n",
       "      <th>7918</th>\n",
       "      <td>7919</td>\n",
       "      <td>0</td>\n",
       "      <td>final got smart pocket wifi stay connect anyti...</td>\n",
       "    </tr>\n",
       "    <tr>\n",
       "      <th>7919</th>\n",
       "      <td>7920</td>\n",
       "      <td>0</td>\n",
       "      <td>appl barcelona appl store bcn barcelona travel...</td>\n",
       "    </tr>\n",
       "  </tbody>\n",
       "</table>\n",
       "<p>7920 rows × 3 columns</p>\n",
       "</div>"
      ],
      "text/plain": [
       "        id  label                                              tweet\n",
       "0        1      0  fingerprint pregnanc test android app beauti c...\n",
       "1        2      0  final transpar silicon case thank uncl yay son...\n",
       "2        3      0  love would go talk makememori unplug relax iph...\n",
       "3        4      0  im wire know im georg made way iphon cute dave...\n",
       "4        5      1  amaz servic appl wont even talk question unles...\n",
       "...    ...    ...                                                ...\n",
       "7915  7916      0  live loud lol liveoutloud selfi smile soni mus...\n",
       "7916  7917      0  would like wish amaz day make everi minut coun...\n",
       "7917  7918      0  help love year old neighbor ipad morn made rea...\n",
       "7918  7919      0  final got smart pocket wifi stay connect anyti...\n",
       "7919  7920      0  appl barcelona appl store bcn barcelona travel...\n",
       "\n",
       "[7920 rows x 3 columns]"
      ]
     },
     "execution_count": 49,
     "metadata": {},
     "output_type": "execute_result"
    }
   ],
   "source": [
    "data"
   ]
  },
  {
   "cell_type": "code",
   "execution_count": 51,
   "id": "3fe936c3-24fb-482e-8dda-9d5828ead94f",
   "metadata": {},
   "outputs": [
    {
     "data": {
      "text/plain": [
       "15951"
      ]
     },
     "execution_count": 51,
     "metadata": {},
     "output_type": "execute_result"
    }
   ],
   "source": [
    "for sentence in data['tweet']:\n",
    "    vocab.update(sentence.split())\n",
    "\n",
    "len(vocab)"
   ]
  },
  {
   "cell_type": "code",
   "execution_count": 56,
   "id": "6d14cfe3-de20-4e45-98fc-f43c7892c2b3",
   "metadata": {},
   "outputs": [],
   "source": [
    "tokens = [key for key in vocab if vocab[key] > 20]"
   ]
  },
  {
   "cell_type": "code",
   "execution_count": 57,
   "id": "b497ef80-2051-4544-b433-022a97d00c3d",
   "metadata": {},
   "outputs": [
    {
     "data": {
      "text/plain": [
       "1145"
      ]
     },
     "execution_count": 57,
     "metadata": {},
     "output_type": "execute_result"
    }
   ],
   "source": [
    "len(tokens)"
   ]
  },
  {
   "cell_type": "code",
   "execution_count": 60,
   "id": "c9a87dfc-a18d-4834-8f91-70320e942871",
   "metadata": {},
   "outputs": [],
   "source": [
    "def save_vocabulary(lines, filename):\n",
    "    data = '\\n'.join(lines)\n",
    "    file = open(filename, 'w', encoding=\"utf-8\")\n",
    "    file.write(data)\n",
    "    file.close()\n",
    "\n",
    "save_vocabulary(tokens, 'static/model/vocabulary.txt')"
   ]
  },
  {
   "cell_type": "markdown",
   "id": "a7d3c746-e68a-4dde-9058-c0b7a459c923",
   "metadata": {},
   "source": [
    "### DIVIDE DATASET"
   ]
  },
  {
   "cell_type": "code",
   "execution_count": 64,
   "id": "82de3916-0321-4e17-a6b7-39383dbe3fe7",
   "metadata": {},
   "outputs": [],
   "source": [
    "x = data['tweet']\n",
    "y = data['label']"
   ]
  },
  {
   "cell_type": "code",
   "execution_count": 61,
   "id": "803d15ec-0215-47f7-b323-5d6f4811ea06",
   "metadata": {},
   "outputs": [
    {
     "name": "stdout",
     "output_type": "stream",
     "text": [
      "Collecting scikit-learn\n",
      "  Downloading scikit_learn-1.5.0-cp312-cp312-win_amd64.whl.metadata (11 kB)\n",
      "Requirement already satisfied: numpy>=1.19.5 in c:\\users\\user\\desktop\\sentiment_analysis_project\\env\\lib\\site-packages (from scikit-learn) (1.26.4)\n",
      "Collecting scipy>=1.6.0 (from scikit-learn)\n",
      "  Downloading scipy-1.13.1-cp312-cp312-win_amd64.whl.metadata (60 kB)\n",
      "     ---------------------------------------- 0.0/60.6 kB ? eta -:--:--\n",
      "     ------ --------------------------------- 10.2/60.6 kB ? eta -:--:--\n",
      "     ------------------- ------------------ 30.7/60.6 kB 445.2 kB/s eta 0:00:01\n",
      "     ------------------------- ------------ 41.0/60.6 kB 281.8 kB/s eta 0:00:01\n",
      "     -------------------------------------- 60.6/60.6 kB 359.6 kB/s eta 0:00:00\n",
      "Requirement already satisfied: joblib>=1.2.0 in c:\\users\\user\\desktop\\sentiment_analysis_project\\env\\lib\\site-packages (from scikit-learn) (1.4.2)\n",
      "Collecting threadpoolctl>=3.1.0 (from scikit-learn)\n",
      "  Using cached threadpoolctl-3.5.0-py3-none-any.whl.metadata (13 kB)\n",
      "Downloading scikit_learn-1.5.0-cp312-cp312-win_amd64.whl (10.9 MB)\n",
      "   ---------------------------------------- 0.0/10.9 MB ? eta -:--:--\n",
      "   ---------------------------------------- 0.1/10.9 MB 3.2 MB/s eta 0:00:04\n",
      "   ---------------------------------------- 0.1/10.9 MB 1.7 MB/s eta 0:00:07\n",
      "   ---------------------------------------- 0.1/10.9 MB 1.0 MB/s eta 0:00:11\n",
      "    --------------------------------------- 0.2/10.9 MB 1.2 MB/s eta 0:00:09\n",
      "    --------------------------------------- 0.2/10.9 MB 1.3 MB/s eta 0:00:09\n",
      "    --------------------------------------- 0.3/10.9 MB 1.0 MB/s eta 0:00:11\n",
      "   - -------------------------------------- 0.4/10.9 MB 1.3 MB/s eta 0:00:09\n",
      "   - -------------------------------------- 0.5/10.9 MB 1.4 MB/s eta 0:00:08\n",
      "   - -------------------------------------- 0.5/10.9 MB 1.4 MB/s eta 0:00:08\n",
      "   -- ------------------------------------- 0.6/10.9 MB 1.3 MB/s eta 0:00:08\n",
      "   -- ------------------------------------- 0.7/10.9 MB 1.4 MB/s eta 0:00:08\n",
      "   -- ------------------------------------- 0.8/10.9 MB 1.5 MB/s eta 0:00:07\n",
      "   --- ------------------------------------ 0.9/10.9 MB 1.5 MB/s eta 0:00:07\n",
      "   --- ------------------------------------ 1.0/10.9 MB 1.6 MB/s eta 0:00:07\n",
      "   --- ------------------------------------ 1.1/10.9 MB 1.6 MB/s eta 0:00:07\n",
      "   ---- ----------------------------------- 1.1/10.9 MB 1.6 MB/s eta 0:00:07\n",
      "   ---- ----------------------------------- 1.2/10.9 MB 1.6 MB/s eta 0:00:07\n",
      "   ---- ----------------------------------- 1.3/10.9 MB 1.6 MB/s eta 0:00:06\n",
      "   ----- ---------------------------------- 1.4/10.9 MB 1.7 MB/s eta 0:00:06\n",
      "   ----- ---------------------------------- 1.5/10.9 MB 1.7 MB/s eta 0:00:06\n",
      "   ------ --------------------------------- 1.7/10.9 MB 1.7 MB/s eta 0:00:06\n",
      "   ------ --------------------------------- 1.8/10.9 MB 1.8 MB/s eta 0:00:06\n",
      "   ------ --------------------------------- 1.8/10.9 MB 1.8 MB/s eta 0:00:06\n",
      "   ------- -------------------------------- 2.0/10.9 MB 1.8 MB/s eta 0:00:06\n",
      "   ------- -------------------------------- 2.1/10.9 MB 1.8 MB/s eta 0:00:05\n",
      "   ------- -------------------------------- 2.2/10.9 MB 1.8 MB/s eta 0:00:05\n",
      "   -------- ------------------------------- 2.3/10.9 MB 1.8 MB/s eta 0:00:05\n",
      "   -------- ------------------------------- 2.4/10.9 MB 1.9 MB/s eta 0:00:05\n",
      "   --------- ------------------------------ 2.5/10.9 MB 1.9 MB/s eta 0:00:05\n",
      "   --------- ------------------------------ 2.6/10.9 MB 1.9 MB/s eta 0:00:05\n",
      "   ---------- ----------------------------- 2.8/10.9 MB 1.9 MB/s eta 0:00:05\n",
      "   ---------- ----------------------------- 2.9/10.9 MB 2.0 MB/s eta 0:00:05\n",
      "   ----------- ---------------------------- 3.0/10.9 MB 2.0 MB/s eta 0:00:05\n",
      "   ----------- ---------------------------- 3.1/10.9 MB 2.0 MB/s eta 0:00:04\n",
      "   ------------ --------------------------- 3.3/10.9 MB 2.1 MB/s eta 0:00:04\n",
      "   ------------ --------------------------- 3.4/10.9 MB 2.1 MB/s eta 0:00:04\n",
      "   ------------ --------------------------- 3.5/10.9 MB 2.1 MB/s eta 0:00:04\n",
      "   ------------- -------------------------- 3.6/10.9 MB 2.1 MB/s eta 0:00:04\n",
      "   -------------- ------------------------- 3.8/10.9 MB 2.1 MB/s eta 0:00:04\n",
      "   -------------- ------------------------- 3.8/10.9 MB 2.1 MB/s eta 0:00:04\n",
      "   -------------- ------------------------- 4.0/10.9 MB 2.1 MB/s eta 0:00:04\n",
      "   --------------- ------------------------ 4.1/10.9 MB 2.1 MB/s eta 0:00:04\n",
      "   --------------- ------------------------ 4.3/10.9 MB 2.2 MB/s eta 0:00:04\n",
      "   ---------------- ----------------------- 4.4/10.9 MB 2.2 MB/s eta 0:00:03\n",
      "   ---------------- ----------------------- 4.6/10.9 MB 2.2 MB/s eta 0:00:03\n",
      "   ----------------- ---------------------- 4.7/10.9 MB 2.2 MB/s eta 0:00:03\n",
      "   ----------------- ---------------------- 4.9/10.9 MB 2.2 MB/s eta 0:00:03\n",
      "   ------------------ --------------------- 5.0/10.9 MB 2.3 MB/s eta 0:00:03\n",
      "   ------------------- -------------------- 5.2/10.9 MB 2.3 MB/s eta 0:00:03\n",
      "   ------------------- -------------------- 5.4/10.9 MB 2.3 MB/s eta 0:00:03\n",
      "   ------------------- -------------------- 5.4/10.9 MB 2.3 MB/s eta 0:00:03\n",
      "   -------------------- ------------------- 5.6/10.9 MB 2.3 MB/s eta 0:00:03\n",
      "   --------------------- ------------------ 5.8/10.9 MB 2.3 MB/s eta 0:00:03\n",
      "   --------------------- ------------------ 5.9/10.9 MB 2.4 MB/s eta 0:00:03\n",
      "   ---------------------- ----------------- 6.0/10.9 MB 2.4 MB/s eta 0:00:03\n",
      "   ---------------------- ----------------- 6.2/10.9 MB 2.4 MB/s eta 0:00:02\n",
      "   ----------------------- ---------------- 6.3/10.9 MB 2.4 MB/s eta 0:00:02\n",
      "   ----------------------- ---------------- 6.5/10.9 MB 2.4 MB/s eta 0:00:02\n",
      "   ------------------------ --------------- 6.7/10.9 MB 2.4 MB/s eta 0:00:02\n",
      "   ------------------------- -------------- 6.9/10.9 MB 2.5 MB/s eta 0:00:02\n",
      "   ------------------------- -------------- 7.1/10.9 MB 2.5 MB/s eta 0:00:02\n",
      "   -------------------------- ------------- 7.2/10.9 MB 2.5 MB/s eta 0:00:02\n",
      "   --------------------------- ------------ 7.4/10.9 MB 2.5 MB/s eta 0:00:02\n",
      "   ---------------------------- ----------- 7.7/10.9 MB 2.6 MB/s eta 0:00:02\n",
      "   ---------------------------- ----------- 7.9/10.9 MB 2.6 MB/s eta 0:00:02\n",
      "   ----------------------------- ---------- 8.0/10.9 MB 2.6 MB/s eta 0:00:02\n",
      "   ------------------------------ --------- 8.3/10.9 MB 2.7 MB/s eta 0:00:01\n",
      "   ------------------------------ --------- 8.5/10.9 MB 2.7 MB/s eta 0:00:01\n",
      "   ------------------------------- -------- 8.6/10.9 MB 2.7 MB/s eta 0:00:01\n",
      "   -------------------------------- ------- 8.8/10.9 MB 2.7 MB/s eta 0:00:01\n",
      "   -------------------------------- ------- 8.9/10.9 MB 2.7 MB/s eta 0:00:01\n",
      "   --------------------------------- ------ 9.1/10.9 MB 2.7 MB/s eta 0:00:01\n",
      "   --------------------------------- ------ 9.2/10.9 MB 2.7 MB/s eta 0:00:01\n",
      "   ---------------------------------- ----- 9.4/10.9 MB 2.7 MB/s eta 0:00:01\n",
      "   ---------------------------------- ----- 9.5/10.9 MB 2.7 MB/s eta 0:00:01\n",
      "   ----------------------------------- ---- 9.6/10.9 MB 2.7 MB/s eta 0:00:01\n",
      "   ----------------------------------- ---- 9.7/10.9 MB 2.7 MB/s eta 0:00:01\n",
      "   ----------------------------------- ---- 9.8/10.9 MB 2.7 MB/s eta 0:00:01\n",
      "   ------------------------------------ --- 10.0/10.9 MB 2.7 MB/s eta 0:00:01\n",
      "   ------------------------------------- -- 10.1/10.9 MB 2.7 MB/s eta 0:00:01\n",
      "   ------------------------------------- -- 10.3/10.9 MB 2.7 MB/s eta 0:00:01\n",
      "   -------------------------------------- - 10.5/10.9 MB 2.9 MB/s eta 0:00:01\n",
      "   -------------------------------------- - 10.6/10.9 MB 2.9 MB/s eta 0:00:01\n",
      "   ---------------------------------------  10.9/10.9 MB 3.0 MB/s eta 0:00:01\n",
      "   ---------------------------------------  10.9/10.9 MB 3.0 MB/s eta 0:00:01\n",
      "   ---------------------------------------- 10.9/10.9 MB 3.0 MB/s eta 0:00:00\n",
      "Downloading scipy-1.13.1-cp312-cp312-win_amd64.whl (45.9 MB)\n",
      "   ---------------------------------------- 0.0/45.9 MB ? eta -:--:--\n",
      "   ---------------------------------------- 0.1/45.9 MB 4.3 MB/s eta 0:00:11\n",
      "   ---------------------------------------- 0.4/45.9 MB 3.8 MB/s eta 0:00:12\n",
      "   ---------------------------------------- 0.6/45.9 MB 4.3 MB/s eta 0:00:11\n",
      "    --------------------------------------- 0.7/45.9 MB 4.3 MB/s eta 0:00:11\n",
      "    --------------------------------------- 0.8/45.9 MB 3.8 MB/s eta 0:00:12\n",
      "    --------------------------------------- 1.0/45.9 MB 3.8 MB/s eta 0:00:12\n",
      "   - -------------------------------------- 1.3/45.9 MB 4.0 MB/s eta 0:00:12\n",
      "   - -------------------------------------- 1.3/45.9 MB 4.1 MB/s eta 0:00:12\n",
      "   - -------------------------------------- 1.3/45.9 MB 4.1 MB/s eta 0:00:12\n",
      "   - -------------------------------------- 1.3/45.9 MB 4.1 MB/s eta 0:00:12\n",
      "   - -------------------------------------- 1.3/45.9 MB 4.1 MB/s eta 0:00:12\n",
      "   - -------------------------------------- 2.2/45.9 MB 3.9 MB/s eta 0:00:12\n",
      "   -- ------------------------------------- 2.3/45.9 MB 3.9 MB/s eta 0:00:12\n",
      "   -- ------------------------------------- 2.3/45.9 MB 3.9 MB/s eta 0:00:12\n",
      "   -- ------------------------------------- 2.5/45.9 MB 3.6 MB/s eta 0:00:13\n",
      "   -- ------------------------------------- 2.7/45.9 MB 3.6 MB/s eta 0:00:12\n",
      "   -- ------------------------------------- 2.9/45.9 MB 3.7 MB/s eta 0:00:12\n",
      "   -- ------------------------------------- 3.0/45.9 MB 3.6 MB/s eta 0:00:12\n",
      "   -- ------------------------------------- 3.1/45.9 MB 3.6 MB/s eta 0:00:12\n",
      "   -- ------------------------------------- 3.1/45.9 MB 3.6 MB/s eta 0:00:12\n",
      "   -- ------------------------------------- 3.1/45.9 MB 3.6 MB/s eta 0:00:12\n",
      "   --- ------------------------------------ 3.7/45.9 MB 3.6 MB/s eta 0:00:12\n",
      "   --- ------------------------------------ 3.8/45.9 MB 3.6 MB/s eta 0:00:12\n",
      "   --- ------------------------------------ 3.9/45.9 MB 3.5 MB/s eta 0:00:12\n",
      "   --- ------------------------------------ 4.1/45.9 MB 3.6 MB/s eta 0:00:12\n",
      "   --- ------------------------------------ 4.2/45.9 MB 3.5 MB/s eta 0:00:12\n",
      "   --- ------------------------------------ 4.4/45.9 MB 3.5 MB/s eta 0:00:12\n",
      "   ---- ----------------------------------- 4.6/45.9 MB 3.6 MB/s eta 0:00:12\n",
      "   ---- ----------------------------------- 4.7/45.9 MB 3.5 MB/s eta 0:00:12\n",
      "   ---- ----------------------------------- 4.8/45.9 MB 3.5 MB/s eta 0:00:12\n",
      "   ---- ----------------------------------- 5.0/45.9 MB 3.5 MB/s eta 0:00:12\n",
      "   ---- ----------------------------------- 5.0/45.9 MB 3.5 MB/s eta 0:00:12\n",
      "   ---- ----------------------------------- 5.3/45.9 MB 3.4 MB/s eta 0:00:12\n",
      "   ---- ----------------------------------- 5.4/45.9 MB 3.4 MB/s eta 0:00:12\n",
      "   ---- ----------------------------------- 5.6/45.9 MB 3.4 MB/s eta 0:00:12\n",
      "   ---- ----------------------------------- 5.7/45.9 MB 3.4 MB/s eta 0:00:12\n",
      "   ----- ---------------------------------- 5.8/45.9 MB 3.4 MB/s eta 0:00:12\n",
      "   ----- ---------------------------------- 6.0/45.9 MB 3.4 MB/s eta 0:00:12\n",
      "   ----- ---------------------------------- 6.1/45.9 MB 3.4 MB/s eta 0:00:12\n",
      "   ----- ---------------------------------- 6.3/45.9 MB 3.4 MB/s eta 0:00:12\n",
      "   ----- ---------------------------------- 6.4/45.9 MB 3.4 MB/s eta 0:00:12\n",
      "   ----- ---------------------------------- 6.6/45.9 MB 3.4 MB/s eta 0:00:12\n",
      "   ----- ---------------------------------- 6.7/45.9 MB 3.3 MB/s eta 0:00:12\n",
      "   ----- ---------------------------------- 6.9/45.9 MB 3.3 MB/s eta 0:00:12\n",
      "   ------ --------------------------------- 7.0/45.9 MB 3.4 MB/s eta 0:00:12\n",
      "   ------ --------------------------------- 7.2/45.9 MB 3.3 MB/s eta 0:00:12\n",
      "   ------ --------------------------------- 7.3/45.9 MB 3.3 MB/s eta 0:00:12\n",
      "   ------ --------------------------------- 7.5/45.9 MB 3.3 MB/s eta 0:00:12\n",
      "   ------ --------------------------------- 7.5/45.9 MB 3.3 MB/s eta 0:00:12\n",
      "   ------ --------------------------------- 7.6/45.9 MB 3.3 MB/s eta 0:00:12\n",
      "   ------ --------------------------------- 7.9/45.9 MB 3.3 MB/s eta 0:00:12\n",
      "   ------- -------------------------------- 8.0/45.9 MB 3.3 MB/s eta 0:00:12\n",
      "   ------- -------------------------------- 8.1/45.9 MB 3.3 MB/s eta 0:00:12\n",
      "   ------- -------------------------------- 8.3/45.9 MB 3.3 MB/s eta 0:00:12\n",
      "   ------- -------------------------------- 8.5/45.9 MB 3.3 MB/s eta 0:00:12\n",
      "   ------- -------------------------------- 8.6/45.9 MB 3.3 MB/s eta 0:00:12\n",
      "   ------- -------------------------------- 8.8/45.9 MB 3.3 MB/s eta 0:00:12\n",
      "   ------- -------------------------------- 9.0/45.9 MB 3.3 MB/s eta 0:00:12\n",
      "   ------- -------------------------------- 9.1/45.9 MB 3.3 MB/s eta 0:00:12\n",
      "   -------- ------------------------------- 9.3/45.9 MB 3.3 MB/s eta 0:00:11\n",
      "   -------- ------------------------------- 9.4/45.9 MB 3.3 MB/s eta 0:00:12\n",
      "   -------- ------------------------------- 9.6/45.9 MB 3.3 MB/s eta 0:00:11\n",
      "   -------- ------------------------------- 9.8/45.9 MB 3.4 MB/s eta 0:00:11\n",
      "   -------- ------------------------------- 9.9/45.9 MB 3.3 MB/s eta 0:00:11\n",
      "   -------- ------------------------------- 10.0/45.9 MB 3.3 MB/s eta 0:00:11\n",
      "   -------- ------------------------------- 10.2/45.9 MB 3.4 MB/s eta 0:00:11\n",
      "   --------- ------------------------------ 10.3/45.9 MB 3.4 MB/s eta 0:00:11\n",
      "   --------- ------------------------------ 10.5/45.9 MB 3.3 MB/s eta 0:00:11\n",
      "   --------- ------------------------------ 10.6/45.9 MB 3.3 MB/s eta 0:00:11\n",
      "   --------- ------------------------------ 10.8/45.9 MB 3.3 MB/s eta 0:00:11\n",
      "   --------- ------------------------------ 10.8/45.9 MB 3.3 MB/s eta 0:00:11\n",
      "   --------- ------------------------------ 11.0/45.9 MB 3.3 MB/s eta 0:00:11\n",
      "   --------- ------------------------------ 11.2/45.9 MB 3.3 MB/s eta 0:00:11\n",
      "   --------- ------------------------------ 11.2/45.9 MB 3.2 MB/s eta 0:00:11\n",
      "   --------- ------------------------------ 11.4/45.9 MB 3.2 MB/s eta 0:00:11\n",
      "   ---------- ----------------------------- 11.6/45.9 MB 3.4 MB/s eta 0:00:11\n",
      "   ---------- ----------------------------- 11.7/45.9 MB 3.4 MB/s eta 0:00:11\n",
      "   ---------- ----------------------------- 11.8/45.9 MB 3.3 MB/s eta 0:00:11\n",
      "   ---------- ----------------------------- 12.1/45.9 MB 3.3 MB/s eta 0:00:11\n",
      "   ---------- ----------------------------- 12.2/45.9 MB 3.2 MB/s eta 0:00:11\n",
      "   ---------- ----------------------------- 12.4/45.9 MB 3.2 MB/s eta 0:00:11\n",
      "   ---------- ----------------------------- 12.6/45.9 MB 3.3 MB/s eta 0:00:11\n",
      "   ----------- ---------------------------- 12.7/45.9 MB 3.2 MB/s eta 0:00:11\n",
      "   ----------- ---------------------------- 12.9/45.9 MB 3.2 MB/s eta 0:00:11\n",
      "   ----------- ---------------------------- 13.0/45.9 MB 3.2 MB/s eta 0:00:11\n",
      "   ----------- ---------------------------- 13.2/45.9 MB 3.2 MB/s eta 0:00:11\n",
      "   ----------- ---------------------------- 13.3/45.9 MB 3.4 MB/s eta 0:00:10\n",
      "   ----------- ---------------------------- 13.5/45.9 MB 3.3 MB/s eta 0:00:10\n",
      "   ----------- ---------------------------- 13.5/45.9 MB 3.3 MB/s eta 0:00:10\n",
      "   ----------- ---------------------------- 13.6/45.9 MB 3.2 MB/s eta 0:00:11\n",
      "   ------------ --------------------------- 13.9/45.9 MB 3.2 MB/s eta 0:00:11\n",
      "   ------------ --------------------------- 14.0/45.9 MB 3.2 MB/s eta 0:00:10\n",
      "   ------------ --------------------------- 14.2/45.9 MB 3.2 MB/s eta 0:00:11\n",
      "   ------------ --------------------------- 14.2/45.9 MB 3.1 MB/s eta 0:00:11\n",
      "   ------------ --------------------------- 14.4/45.9 MB 3.2 MB/s eta 0:00:10\n",
      "   ------------ --------------------------- 14.6/45.9 MB 3.2 MB/s eta 0:00:10\n",
      "   ------------ --------------------------- 14.7/45.9 MB 3.1 MB/s eta 0:00:10\n",
      "   ------------ --------------------------- 14.9/45.9 MB 3.2 MB/s eta 0:00:10\n",
      "   ------------- -------------------------- 15.1/45.9 MB 3.2 MB/s eta 0:00:10\n",
      "   ------------- -------------------------- 15.3/45.9 MB 3.2 MB/s eta 0:00:10\n",
      "   ------------- -------------------------- 15.4/45.9 MB 3.2 MB/s eta 0:00:10\n",
      "   ------------- -------------------------- 15.5/45.9 MB 3.2 MB/s eta 0:00:10\n",
      "   ------------- -------------------------- 15.6/45.9 MB 3.2 MB/s eta 0:00:10\n",
      "   ------------- -------------------------- 15.6/45.9 MB 3.2 MB/s eta 0:00:10\n",
      "   ------------- -------------------------- 15.6/45.9 MB 3.2 MB/s eta 0:00:10\n",
      "   -------------- ------------------------- 16.2/45.9 MB 3.2 MB/s eta 0:00:10\n",
      "   -------------- ------------------------- 16.3/45.9 MB 3.2 MB/s eta 0:00:10\n",
      "   -------------- ------------------------- 16.4/45.9 MB 3.2 MB/s eta 0:00:10\n",
      "   -------------- ------------------------- 16.5/45.9 MB 3.2 MB/s eta 0:00:10\n",
      "   -------------- ------------------------- 16.7/45.9 MB 3.2 MB/s eta 0:00:10\n",
      "   -------------- ------------------------- 16.8/45.9 MB 3.1 MB/s eta 0:00:10\n",
      "   -------------- ------------------------- 16.9/45.9 MB 3.2 MB/s eta 0:00:10\n",
      "   -------------- ------------------------- 17.0/45.9 MB 3.2 MB/s eta 0:00:10\n",
      "   -------------- ------------------------- 17.1/45.9 MB 3.1 MB/s eta 0:00:10\n",
      "   --------------- ------------------------ 17.2/45.9 MB 3.1 MB/s eta 0:00:10\n",
      "   --------------- ------------------------ 17.4/45.9 MB 3.1 MB/s eta 0:00:10\n",
      "   --------------- ------------------------ 17.5/45.9 MB 3.1 MB/s eta 0:00:10\n",
      "   --------------- ------------------------ 17.6/45.9 MB 3.1 MB/s eta 0:00:10\n",
      "   --------------- ------------------------ 17.7/45.9 MB 3.1 MB/s eta 0:00:10\n",
      "   --------------- ------------------------ 17.9/45.9 MB 3.1 MB/s eta 0:00:09\n",
      "   --------------- ------------------------ 18.0/45.9 MB 3.1 MB/s eta 0:00:10\n",
      "   --------------- ------------------------ 18.1/45.9 MB 3.1 MB/s eta 0:00:10\n",
      "   --------------- ------------------------ 18.2/45.9 MB 3.1 MB/s eta 0:00:10\n",
      "   --------------- ------------------------ 18.3/45.9 MB 3.1 MB/s eta 0:00:09\n",
      "   ---------------- ----------------------- 18.5/45.9 MB 3.1 MB/s eta 0:00:09\n",
      "   ---------------- ----------------------- 18.5/45.9 MB 3.1 MB/s eta 0:00:09\n",
      "   ---------------- ----------------------- 18.7/45.9 MB 3.0 MB/s eta 0:00:09\n",
      "   ---------------- ----------------------- 18.8/45.9 MB 3.1 MB/s eta 0:00:09\n",
      "   ---------------- ----------------------- 19.0/45.9 MB 3.0 MB/s eta 0:00:09\n",
      "   ---------------- ----------------------- 19.0/45.9 MB 3.0 MB/s eta 0:00:09\n",
      "   ---------------- ----------------------- 19.2/45.9 MB 3.0 MB/s eta 0:00:09\n",
      "   ---------------- ----------------------- 19.3/45.9 MB 3.0 MB/s eta 0:00:09\n",
      "   ---------------- ----------------------- 19.4/45.9 MB 3.0 MB/s eta 0:00:09\n",
      "   ----------------- ---------------------- 19.6/45.9 MB 3.0 MB/s eta 0:00:09\n",
      "   ----------------- ---------------------- 19.7/45.9 MB 3.0 MB/s eta 0:00:09\n",
      "   ----------------- ---------------------- 19.9/45.9 MB 3.0 MB/s eta 0:00:09\n",
      "   ----------------- ---------------------- 20.0/45.9 MB 2.9 MB/s eta 0:00:09\n",
      "   ----------------- ---------------------- 20.1/45.9 MB 3.0 MB/s eta 0:00:09\n",
      "   ----------------- ---------------------- 20.2/45.9 MB 2.9 MB/s eta 0:00:09\n",
      "   ----------------- ---------------------- 20.3/45.9 MB 2.9 MB/s eta 0:00:09\n",
      "   ----------------- ---------------------- 20.4/45.9 MB 2.9 MB/s eta 0:00:09\n",
      "   ----------------- ---------------------- 20.6/45.9 MB 2.9 MB/s eta 0:00:09\n",
      "   ------------------ --------------------- 20.7/45.9 MB 2.9 MB/s eta 0:00:09\n",
      "   ------------------ --------------------- 20.8/45.9 MB 2.9 MB/s eta 0:00:09\n",
      "   ------------------ --------------------- 21.0/45.9 MB 2.9 MB/s eta 0:00:09\n",
      "   ------------------ --------------------- 21.1/45.9 MB 2.9 MB/s eta 0:00:09\n",
      "   ------------------ --------------------- 21.1/45.9 MB 2.9 MB/s eta 0:00:09\n",
      "   ------------------ --------------------- 21.2/45.9 MB 2.9 MB/s eta 0:00:09\n",
      "   ------------------ --------------------- 21.3/45.9 MB 2.9 MB/s eta 0:00:09\n",
      "   ------------------ --------------------- 21.4/45.9 MB 2.8 MB/s eta 0:00:09\n",
      "   ------------------ --------------------- 21.5/45.9 MB 2.8 MB/s eta 0:00:09\n",
      "   ------------------ --------------------- 21.6/45.9 MB 2.8 MB/s eta 0:00:09\n",
      "   ------------------ --------------------- 21.7/45.9 MB 2.8 MB/s eta 0:00:09\n",
      "   ------------------ --------------------- 21.7/45.9 MB 2.8 MB/s eta 0:00:09\n",
      "   ------------------- -------------------- 21.9/45.9 MB 2.8 MB/s eta 0:00:09\n",
      "   ------------------- -------------------- 22.0/45.9 MB 2.8 MB/s eta 0:00:09\n",
      "   ------------------- -------------------- 22.1/45.9 MB 2.8 MB/s eta 0:00:09\n",
      "   ------------------- -------------------- 22.3/45.9 MB 2.8 MB/s eta 0:00:09\n",
      "   ------------------- -------------------- 22.4/45.9 MB 2.8 MB/s eta 0:00:09\n",
      "   ------------------- -------------------- 22.5/45.9 MB 2.8 MB/s eta 0:00:09\n",
      "   ------------------- -------------------- 22.7/45.9 MB 2.8 MB/s eta 0:00:09\n",
      "   ------------------- -------------------- 22.8/45.9 MB 2.8 MB/s eta 0:00:09\n",
      "   -------------------- ------------------- 23.0/45.9 MB 2.8 MB/s eta 0:00:09\n",
      "   -------------------- ------------------- 23.2/45.9 MB 2.7 MB/s eta 0:00:09\n",
      "   -------------------- ------------------- 23.3/45.9 MB 2.8 MB/s eta 0:00:09\n",
      "   -------------------- ------------------- 23.4/45.9 MB 2.8 MB/s eta 0:00:09\n",
      "   -------------------- ------------------- 23.6/45.9 MB 2.8 MB/s eta 0:00:09\n",
      "   -------------------- ------------------- 23.8/45.9 MB 2.8 MB/s eta 0:00:08\n",
      "   -------------------- ------------------- 23.8/45.9 MB 2.8 MB/s eta 0:00:08\n",
      "   -------------------- ------------------- 23.9/45.9 MB 2.8 MB/s eta 0:00:08\n",
      "   -------------------- ------------------- 24.0/45.9 MB 2.7 MB/s eta 0:00:08\n",
      "   --------------------- ------------------ 24.2/45.9 MB 2.7 MB/s eta 0:00:08\n",
      "   --------------------- ------------------ 24.2/45.9 MB 2.7 MB/s eta 0:00:08\n",
      "   --------------------- ------------------ 24.3/45.9 MB 2.7 MB/s eta 0:00:09\n",
      "   --------------------- ------------------ 24.5/45.9 MB 2.7 MB/s eta 0:00:08\n",
      "   --------------------- ------------------ 24.6/45.9 MB 2.7 MB/s eta 0:00:08\n",
      "   --------------------- ------------------ 24.8/45.9 MB 2.7 MB/s eta 0:00:08\n",
      "   --------------------- ------------------ 24.9/45.9 MB 2.7 MB/s eta 0:00:08\n",
      "   --------------------- ------------------ 25.1/45.9 MB 2.7 MB/s eta 0:00:08\n",
      "   --------------------- ------------------ 25.2/45.9 MB 2.7 MB/s eta 0:00:08\n",
      "   ---------------------- ----------------- 25.4/45.9 MB 2.7 MB/s eta 0:00:08\n",
      "   ---------------------- ----------------- 25.5/45.9 MB 2.7 MB/s eta 0:00:08\n",
      "   ---------------------- ----------------- 25.6/45.9 MB 2.7 MB/s eta 0:00:08\n",
      "   ---------------------- ----------------- 25.8/45.9 MB 2.7 MB/s eta 0:00:08\n",
      "   ---------------------- ----------------- 26.0/45.9 MB 2.7 MB/s eta 0:00:08\n",
      "   ---------------------- ----------------- 26.1/45.9 MB 2.7 MB/s eta 0:00:08\n",
      "   ---------------------- ----------------- 26.2/45.9 MB 2.7 MB/s eta 0:00:08\n",
      "   ---------------------- ----------------- 26.3/45.9 MB 2.6 MB/s eta 0:00:08\n",
      "   ----------------------- ---------------- 26.5/45.9 MB 2.7 MB/s eta 0:00:08\n",
      "   ----------------------- ---------------- 26.6/45.9 MB 2.7 MB/s eta 0:00:08\n",
      "   ----------------------- ---------------- 26.7/45.9 MB 2.7 MB/s eta 0:00:08\n",
      "   ----------------------- ---------------- 26.8/45.9 MB 2.7 MB/s eta 0:00:08\n",
      "   ----------------------- ---------------- 27.0/45.9 MB 2.7 MB/s eta 0:00:08\n",
      "   ----------------------- ---------------- 27.1/45.9 MB 2.7 MB/s eta 0:00:08\n",
      "   ----------------------- ---------------- 27.2/45.9 MB 2.7 MB/s eta 0:00:08\n",
      "   ----------------------- ---------------- 27.4/45.9 MB 2.7 MB/s eta 0:00:07\n",
      "   ----------------------- ---------------- 27.5/45.9 MB 2.7 MB/s eta 0:00:07\n",
      "   ------------------------ --------------- 27.7/45.9 MB 2.7 MB/s eta 0:00:07\n",
      "   ------------------------ --------------- 27.9/45.9 MB 2.7 MB/s eta 0:00:07\n",
      "   ------------------------ --------------- 28.0/45.9 MB 2.7 MB/s eta 0:00:07\n",
      "   ------------------------ --------------- 28.1/45.9 MB 2.7 MB/s eta 0:00:07\n",
      "   ------------------------ --------------- 28.3/45.9 MB 2.7 MB/s eta 0:00:07\n",
      "   ------------------------ --------------- 28.4/45.9 MB 2.7 MB/s eta 0:00:07\n",
      "   ------------------------ --------------- 28.6/45.9 MB 2.8 MB/s eta 0:00:07\n",
      "   ------------------------- -------------- 28.7/45.9 MB 2.8 MB/s eta 0:00:07\n",
      "   ------------------------- -------------- 28.8/45.9 MB 2.7 MB/s eta 0:00:07\n",
      "   ------------------------- -------------- 29.0/45.9 MB 2.8 MB/s eta 0:00:07\n",
      "   ------------------------- -------------- 29.2/45.9 MB 2.8 MB/s eta 0:00:06\n",
      "   ------------------------- -------------- 29.3/45.9 MB 2.8 MB/s eta 0:00:06\n",
      "   ------------------------- -------------- 29.4/45.9 MB 2.8 MB/s eta 0:00:06\n",
      "   ------------------------- -------------- 29.6/45.9 MB 2.8 MB/s eta 0:00:06\n",
      "   ------------------------- -------------- 29.7/45.9 MB 2.8 MB/s eta 0:00:06\n",
      "   ------------------------- -------------- 29.8/45.9 MB 2.8 MB/s eta 0:00:06\n",
      "   -------------------------- ------------- 29.9/45.9 MB 2.8 MB/s eta 0:00:06\n",
      "   -------------------------- ------------- 30.0/45.9 MB 2.8 MB/s eta 0:00:06\n",
      "   -------------------------- ------------- 30.2/45.9 MB 2.8 MB/s eta 0:00:06\n",
      "   -------------------------- ------------- 30.3/45.9 MB 2.8 MB/s eta 0:00:06\n",
      "   -------------------------- ------------- 30.4/45.9 MB 2.8 MB/s eta 0:00:06\n",
      "   -------------------------- ------------- 30.6/45.9 MB 2.8 MB/s eta 0:00:06\n",
      "   -------------------------- ------------- 30.8/45.9 MB 2.8 MB/s eta 0:00:06\n",
      "   -------------------------- ------------- 30.9/45.9 MB 2.8 MB/s eta 0:00:06\n",
      "   --------------------------- ------------ 31.1/45.9 MB 2.8 MB/s eta 0:00:06\n",
      "   --------------------------- ------------ 31.2/45.9 MB 2.8 MB/s eta 0:00:06\n",
      "   --------------------------- ------------ 31.2/45.9 MB 2.8 MB/s eta 0:00:06\n",
      "   --------------------------- ------------ 31.2/45.9 MB 2.8 MB/s eta 0:00:06\n",
      "   --------------------------- ------------ 31.2/45.9 MB 2.8 MB/s eta 0:00:06\n",
      "   --------------------------- ------------ 31.3/45.9 MB 2.7 MB/s eta 0:00:06\n",
      "   --------------------------- ------------ 31.4/45.9 MB 2.7 MB/s eta 0:00:06\n",
      "   --------------------------- ------------ 31.4/45.9 MB 2.7 MB/s eta 0:00:06\n",
      "   --------------------------- ------------ 31.4/45.9 MB 2.7 MB/s eta 0:00:06\n",
      "   --------------------------- ------------ 31.5/45.9 MB 2.6 MB/s eta 0:00:06\n",
      "   --------------------------- ------------ 31.5/45.9 MB 2.6 MB/s eta 0:00:06\n",
      "   --------------------------- ------------ 31.6/45.9 MB 2.7 MB/s eta 0:00:06\n",
      "   --------------------------- ------------ 31.7/45.9 MB 2.7 MB/s eta 0:00:06\n",
      "   --------------------------- ------------ 31.8/45.9 MB 2.6 MB/s eta 0:00:06\n",
      "   --------------------------- ------------ 31.8/45.9 MB 2.6 MB/s eta 0:00:06\n",
      "   --------------------------- ------------ 31.8/45.9 MB 2.6 MB/s eta 0:00:06\n",
      "   --------------------------- ------------ 31.9/45.9 MB 2.6 MB/s eta 0:00:06\n",
      "   --------------------------- ------------ 32.0/45.9 MB 2.6 MB/s eta 0:00:06\n",
      "   --------------------------- ------------ 32.1/45.9 MB 2.6 MB/s eta 0:00:06\n",
      "   ---------------------------- ----------- 32.2/45.9 MB 2.6 MB/s eta 0:00:06\n",
      "   ---------------------------- ----------- 32.2/45.9 MB 2.6 MB/s eta 0:00:06\n",
      "   ---------------------------- ----------- 32.3/45.9 MB 2.5 MB/s eta 0:00:06\n",
      "   ---------------------------- ----------- 32.4/45.9 MB 2.5 MB/s eta 0:00:06\n",
      "   ---------------------------- ----------- 32.4/45.9 MB 2.5 MB/s eta 0:00:06\n",
      "   ---------------------------- ----------- 32.5/45.9 MB 2.5 MB/s eta 0:00:06\n",
      "   ---------------------------- ----------- 32.6/45.9 MB 2.5 MB/s eta 0:00:06\n",
      "   ---------------------------- ----------- 32.7/45.9 MB 2.5 MB/s eta 0:00:06\n",
      "   ---------------------------- ----------- 32.8/45.9 MB 2.5 MB/s eta 0:00:06\n",
      "   ---------------------------- ----------- 32.9/45.9 MB 2.5 MB/s eta 0:00:06\n",
      "   ---------------------------- ----------- 33.1/45.9 MB 2.5 MB/s eta 0:00:06\n",
      "   ---------------------------- ----------- 33.2/45.9 MB 2.5 MB/s eta 0:00:06\n",
      "   ----------------------------- ---------- 33.4/45.9 MB 2.5 MB/s eta 0:00:06\n",
      "   ----------------------------- ---------- 33.5/45.9 MB 2.5 MB/s eta 0:00:06\n",
      "   ----------------------------- ---------- 33.6/45.9 MB 2.5 MB/s eta 0:00:05\n",
      "   ----------------------------- ---------- 33.8/45.9 MB 2.4 MB/s eta 0:00:05\n",
      "   ----------------------------- ---------- 33.9/45.9 MB 2.4 MB/s eta 0:00:05\n",
      "   ----------------------------- ---------- 34.0/45.9 MB 2.4 MB/s eta 0:00:05\n",
      "   ----------------------------- ---------- 34.1/45.9 MB 2.5 MB/s eta 0:00:05\n",
      "   ----------------------------- ---------- 34.2/45.9 MB 2.5 MB/s eta 0:00:05\n",
      "   ----------------------------- ---------- 34.3/45.9 MB 2.4 MB/s eta 0:00:05\n",
      "   ----------------------------- ---------- 34.4/45.9 MB 2.4 MB/s eta 0:00:05\n",
      "   ------------------------------ --------- 34.6/45.9 MB 2.5 MB/s eta 0:00:05\n",
      "   ------------------------------ --------- 34.6/45.9 MB 2.5 MB/s eta 0:00:05\n",
      "   ------------------------------ --------- 34.7/45.9 MB 2.4 MB/s eta 0:00:05\n",
      "   ------------------------------ --------- 34.8/45.9 MB 2.4 MB/s eta 0:00:05\n",
      "   ------------------------------ --------- 34.8/45.9 MB 2.4 MB/s eta 0:00:05\n",
      "   ------------------------------ --------- 34.8/45.9 MB 2.4 MB/s eta 0:00:05\n",
      "   ------------------------------ --------- 34.9/45.9 MB 2.4 MB/s eta 0:00:05\n",
      "   ------------------------------ --------- 35.0/45.9 MB 2.4 MB/s eta 0:00:05\n",
      "   ------------------------------ --------- 35.1/45.9 MB 2.3 MB/s eta 0:00:05\n",
      "   ------------------------------ --------- 35.3/45.9 MB 2.4 MB/s eta 0:00:05\n",
      "   ------------------------------ --------- 35.3/45.9 MB 2.3 MB/s eta 0:00:05\n",
      "   ------------------------------ --------- 35.3/45.9 MB 2.3 MB/s eta 0:00:05\n",
      "   ------------------------------ --------- 35.4/45.9 MB 2.3 MB/s eta 0:00:05\n",
      "   ------------------------------ --------- 35.5/45.9 MB 2.3 MB/s eta 0:00:05\n",
      "   ------------------------------- -------- 35.6/45.9 MB 2.3 MB/s eta 0:00:05\n",
      "   ------------------------------- -------- 35.7/45.9 MB 2.3 MB/s eta 0:00:05\n",
      "   ------------------------------- -------- 35.8/45.9 MB 2.3 MB/s eta 0:00:05\n",
      "   ------------------------------- -------- 36.0/45.9 MB 2.3 MB/s eta 0:00:05\n",
      "   ------------------------------- -------- 36.0/45.9 MB 2.3 MB/s eta 0:00:05\n",
      "   ------------------------------- -------- 36.0/45.9 MB 2.2 MB/s eta 0:00:05\n",
      "   ------------------------------- -------- 36.1/45.9 MB 2.2 MB/s eta 0:00:05\n",
      "   ------------------------------- -------- 36.1/45.9 MB 2.2 MB/s eta 0:00:05\n",
      "   ------------------------------- -------- 36.1/45.9 MB 2.2 MB/s eta 0:00:05\n",
      "   ------------------------------- -------- 36.2/45.9 MB 2.2 MB/s eta 0:00:05\n",
      "   ------------------------------- -------- 36.3/45.9 MB 2.2 MB/s eta 0:00:05\n",
      "   ------------------------------- -------- 36.4/45.9 MB 2.2 MB/s eta 0:00:05\n",
      "   ------------------------------- -------- 36.4/45.9 MB 2.1 MB/s eta 0:00:05\n",
      "   ------------------------------- -------- 36.5/45.9 MB 2.1 MB/s eta 0:00:05\n",
      "   ------------------------------- -------- 36.5/45.9 MB 2.1 MB/s eta 0:00:05\n",
      "   ------------------------------- -------- 36.5/45.9 MB 2.1 MB/s eta 0:00:05\n",
      "   ------------------------------- -------- 36.6/45.9 MB 2.1 MB/s eta 0:00:05\n",
      "   ------------------------------- -------- 36.7/45.9 MB 2.1 MB/s eta 0:00:05\n",
      "   -------------------------------- ------- 36.9/45.9 MB 2.1 MB/s eta 0:00:05\n",
      "   -------------------------------- ------- 37.0/45.9 MB 2.1 MB/s eta 0:00:05\n",
      "   -------------------------------- ------- 37.0/45.9 MB 2.1 MB/s eta 0:00:05\n",
      "   -------------------------------- ------- 37.1/45.9 MB 2.1 MB/s eta 0:00:05\n",
      "   -------------------------------- ------- 37.1/45.9 MB 2.1 MB/s eta 0:00:05\n",
      "   -------------------------------- ------- 37.1/45.9 MB 2.1 MB/s eta 0:00:05\n",
      "   -------------------------------- ------- 37.4/45.9 MB 2.1 MB/s eta 0:00:05\n",
      "   -------------------------------- ------- 37.4/45.9 MB 2.1 MB/s eta 0:00:05\n",
      "   -------------------------------- ------- 37.5/45.9 MB 2.0 MB/s eta 0:00:05\n",
      "   -------------------------------- ------- 37.6/45.9 MB 2.0 MB/s eta 0:00:05\n",
      "   -------------------------------- ------- 37.7/45.9 MB 2.0 MB/s eta 0:00:05\n",
      "   -------------------------------- ------- 37.7/45.9 MB 2.0 MB/s eta 0:00:05\n",
      "   -------------------------------- ------- 37.8/45.9 MB 2.0 MB/s eta 0:00:05\n",
      "   -------------------------------- ------- 37.8/45.9 MB 2.0 MB/s eta 0:00:05\n",
      "   -------------------------------- ------- 37.9/45.9 MB 2.0 MB/s eta 0:00:05\n",
      "   --------------------------------- ------ 37.9/45.9 MB 2.0 MB/s eta 0:00:05\n",
      "   --------------------------------- ------ 38.0/45.9 MB 2.0 MB/s eta 0:00:05\n",
      "   --------------------------------- ------ 38.0/45.9 MB 1.9 MB/s eta 0:00:05\n",
      "   --------------------------------- ------ 38.0/45.9 MB 1.9 MB/s eta 0:00:05\n",
      "   --------------------------------- ------ 38.1/45.9 MB 1.9 MB/s eta 0:00:05\n",
      "   --------------------------------- ------ 38.2/45.9 MB 1.9 MB/s eta 0:00:05\n",
      "   --------------------------------- ------ 38.3/45.9 MB 1.9 MB/s eta 0:00:05\n",
      "   --------------------------------- ------ 38.4/45.9 MB 1.9 MB/s eta 0:00:04\n",
      "   --------------------------------- ------ 38.5/45.9 MB 1.9 MB/s eta 0:00:04\n",
      "   --------------------------------- ------ 38.6/45.9 MB 1.9 MB/s eta 0:00:04\n",
      "   --------------------------------- ------ 38.6/45.9 MB 1.9 MB/s eta 0:00:04\n",
      "   --------------------------------- ------ 38.8/45.9 MB 1.9 MB/s eta 0:00:04\n",
      "   --------------------------------- ------ 38.9/45.9 MB 1.9 MB/s eta 0:00:04\n",
      "   ---------------------------------- ----- 39.0/45.9 MB 1.9 MB/s eta 0:00:04\n",
      "   ---------------------------------- ----- 39.1/45.9 MB 1.9 MB/s eta 0:00:04\n",
      "   ---------------------------------- ----- 39.2/45.9 MB 1.9 MB/s eta 0:00:04\n",
      "   ---------------------------------- ----- 39.3/45.9 MB 1.8 MB/s eta 0:00:04\n",
      "   ---------------------------------- ----- 39.5/45.9 MB 1.8 MB/s eta 0:00:04\n",
      "   ---------------------------------- ----- 39.6/45.9 MB 1.8 MB/s eta 0:00:04\n",
      "   ---------------------------------- ----- 39.7/45.9 MB 1.9 MB/s eta 0:00:04\n",
      "   ---------------------------------- ----- 39.7/45.9 MB 1.8 MB/s eta 0:00:04\n",
      "   ---------------------------------- ----- 39.7/45.9 MB 1.8 MB/s eta 0:00:04\n",
      "   ---------------------------------- ----- 39.7/45.9 MB 1.8 MB/s eta 0:00:04\n",
      "   ---------------------------------- ----- 39.7/45.9 MB 1.8 MB/s eta 0:00:04\n",
      "   ---------------------------------- ----- 39.7/45.9 MB 1.8 MB/s eta 0:00:04\n",
      "   ---------------------------------- ----- 40.1/45.9 MB 1.8 MB/s eta 0:00:04\n",
      "   ----------------------------------- ---- 40.2/45.9 MB 1.8 MB/s eta 0:00:04\n",
      "   ----------------------------------- ---- 40.2/45.9 MB 1.8 MB/s eta 0:00:04\n",
      "   ----------------------------------- ---- 40.3/45.9 MB 1.8 MB/s eta 0:00:04\n",
      "   ----------------------------------- ---- 40.3/45.9 MB 1.8 MB/s eta 0:00:04\n",
      "   ----------------------------------- ---- 40.4/45.9 MB 1.8 MB/s eta 0:00:04\n",
      "   ----------------------------------- ---- 40.5/45.9 MB 1.8 MB/s eta 0:00:04\n",
      "   ----------------------------------- ---- 40.5/45.9 MB 1.8 MB/s eta 0:00:04\n",
      "   ----------------------------------- ---- 40.6/45.9 MB 1.7 MB/s eta 0:00:04\n",
      "   ----------------------------------- ---- 40.7/45.9 MB 1.7 MB/s eta 0:00:03\n",
      "   ----------------------------------- ---- 40.8/45.9 MB 1.7 MB/s eta 0:00:03\n",
      "   ----------------------------------- ---- 40.9/45.9 MB 1.7 MB/s eta 0:00:03\n",
      "   ----------------------------------- ---- 40.9/45.9 MB 1.7 MB/s eta 0:00:03\n",
      "   ----------------------------------- ---- 40.9/45.9 MB 1.7 MB/s eta 0:00:03\n",
      "   ----------------------------------- ---- 40.9/45.9 MB 1.7 MB/s eta 0:00:03\n",
      "   ----------------------------------- ---- 40.9/45.9 MB 1.7 MB/s eta 0:00:03\n",
      "   ----------------------------------- ---- 40.9/45.9 MB 1.7 MB/s eta 0:00:03\n",
      "   ----------------------------------- ---- 41.0/45.9 MB 1.7 MB/s eta 0:00:03\n",
      "   ----------------------------------- ---- 41.0/45.9 MB 1.7 MB/s eta 0:00:03\n",
      "   ----------------------------------- ---- 41.1/45.9 MB 1.6 MB/s eta 0:00:03\n",
      "   ----------------------------------- ---- 41.2/45.9 MB 1.6 MB/s eta 0:00:03\n",
      "   ----------------------------------- ---- 41.3/45.9 MB 1.6 MB/s eta 0:00:03\n",
      "   ------------------------------------ --- 41.3/45.9 MB 1.6 MB/s eta 0:00:03\n",
      "   ------------------------------------ --- 41.4/45.9 MB 1.6 MB/s eta 0:00:03\n",
      "   ------------------------------------ --- 41.6/45.9 MB 1.7 MB/s eta 0:00:03\n",
      "   ------------------------------------ --- 41.7/45.9 MB 1.7 MB/s eta 0:00:03\n",
      "   ------------------------------------ --- 41.7/45.9 MB 1.7 MB/s eta 0:00:03\n",
      "   ------------------------------------ --- 41.9/45.9 MB 1.7 MB/s eta 0:00:03\n",
      "   ------------------------------------ --- 42.0/45.9 MB 1.7 MB/s eta 0:00:03\n",
      "   ------------------------------------ --- 42.1/45.9 MB 1.7 MB/s eta 0:00:03\n",
      "   ------------------------------------ --- 42.1/45.9 MB 1.7 MB/s eta 0:00:03\n",
      "   ------------------------------------ --- 42.3/45.9 MB 1.7 MB/s eta 0:00:03\n",
      "   ------------------------------------ --- 42.4/45.9 MB 1.7 MB/s eta 0:00:03\n",
      "   ------------------------------------ --- 42.4/45.9 MB 1.7 MB/s eta 0:00:03\n",
      "   ------------------------------------ --- 42.4/45.9 MB 1.7 MB/s eta 0:00:03\n",
      "   ------------------------------------- -- 42.5/45.9 MB 1.7 MB/s eta 0:00:02\n",
      "   ------------------------------------- -- 42.6/45.9 MB 1.7 MB/s eta 0:00:02\n",
      "   ------------------------------------- -- 42.6/45.9 MB 1.7 MB/s eta 0:00:02\n",
      "   ------------------------------------- -- 42.7/45.9 MB 1.7 MB/s eta 0:00:02\n",
      "   ------------------------------------- -- 42.8/45.9 MB 1.7 MB/s eta 0:00:02\n",
      "   ------------------------------------- -- 42.8/45.9 MB 1.7 MB/s eta 0:00:02\n",
      "   ------------------------------------- -- 42.8/45.9 MB 1.7 MB/s eta 0:00:02\n",
      "   ------------------------------------- -- 42.9/45.9 MB 1.7 MB/s eta 0:00:02\n",
      "   ------------------------------------- -- 43.0/45.9 MB 1.7 MB/s eta 0:00:02\n",
      "   ------------------------------------- -- 43.1/45.9 MB 1.7 MB/s eta 0:00:02\n",
      "   ------------------------------------- -- 43.2/45.9 MB 1.7 MB/s eta 0:00:02\n",
      "   ------------------------------------- -- 43.3/45.9 MB 1.7 MB/s eta 0:00:02\n",
      "   ------------------------------------- -- 43.5/45.9 MB 1.7 MB/s eta 0:00:02\n",
      "   ------------------------------------- -- 43.6/45.9 MB 1.7 MB/s eta 0:00:02\n",
      "   -------------------------------------- - 43.7/45.9 MB 1.7 MB/s eta 0:00:02\n",
      "   -------------------------------------- - 43.7/45.9 MB 1.7 MB/s eta 0:00:02\n",
      "   -------------------------------------- - 43.8/45.9 MB 1.7 MB/s eta 0:00:02\n",
      "   -------------------------------------- - 44.0/45.9 MB 1.7 MB/s eta 0:00:02\n",
      "   -------------------------------------- - 44.1/45.9 MB 1.7 MB/s eta 0:00:02\n",
      "   -------------------------------------- - 44.1/45.9 MB 1.7 MB/s eta 0:00:02\n",
      "   -------------------------------------- - 44.2/45.9 MB 1.7 MB/s eta 0:00:02\n",
      "   -------------------------------------- - 44.3/45.9 MB 1.7 MB/s eta 0:00:01\n",
      "   -------------------------------------- - 44.3/45.9 MB 1.7 MB/s eta 0:00:01\n",
      "   -------------------------------------- - 44.5/45.9 MB 1.7 MB/s eta 0:00:01\n",
      "   -------------------------------------- - 44.5/45.9 MB 1.6 MB/s eta 0:00:01\n",
      "   -------------------------------------- - 44.6/45.9 MB 1.6 MB/s eta 0:00:01\n",
      "   -------------------------------------- - 44.7/45.9 MB 1.6 MB/s eta 0:00:01\n",
      "   ---------------------------------------  44.8/45.9 MB 1.6 MB/s eta 0:00:01\n",
      "   ---------------------------------------  44.9/45.9 MB 1.6 MB/s eta 0:00:01\n",
      "   ---------------------------------------  45.0/45.9 MB 1.6 MB/s eta 0:00:01\n",
      "   ---------------------------------------  45.1/45.9 MB 1.7 MB/s eta 0:00:01\n",
      "   ---------------------------------------  45.2/45.9 MB 1.7 MB/s eta 0:00:01\n",
      "   ---------------------------------------  45.3/45.9 MB 1.7 MB/s eta 0:00:01\n",
      "   ---------------------------------------  45.5/45.9 MB 1.7 MB/s eta 0:00:01\n",
      "   ---------------------------------------  45.6/45.9 MB 1.7 MB/s eta 0:00:01\n",
      "   ---------------------------------------  45.7/45.9 MB 1.7 MB/s eta 0:00:01\n",
      "   ---------------------------------------  45.8/45.9 MB 1.7 MB/s eta 0:00:01\n",
      "   ---------------------------------------  45.9/45.9 MB 1.7 MB/s eta 0:00:01\n",
      "   ---------------------------------------  45.9/45.9 MB 1.7 MB/s eta 0:00:01\n",
      "   ---------------------------------------- 45.9/45.9 MB 1.7 MB/s eta 0:00:00\n",
      "Using cached threadpoolctl-3.5.0-py3-none-any.whl (18 kB)\n",
      "Installing collected packages: threadpoolctl, scipy, scikit-learn\n",
      "Successfully installed scikit-learn-1.5.0 scipy-1.13.1 threadpoolctl-3.5.0\n"
     ]
    }
   ],
   "source": [
    "!pip install scikit-learn"
   ]
  },
  {
   "cell_type": "code",
   "execution_count": 68,
   "id": "3776e087-2d96-49a0-838c-025d12b145e9",
   "metadata": {},
   "outputs": [],
   "source": [
    "from sklearn.model_selection import train_test_split\n",
    "x_train, x_test, y_train, y_test = train_test_split(x, y, test_size=0.2)"
   ]
  },
  {
   "cell_type": "code",
   "execution_count": 69,
   "id": "7a3cb076-8ea7-4bea-b39c-61a8fbfe7746",
   "metadata": {},
   "outputs": [
    {
     "data": {
      "text/plain": [
       "(6336,)"
      ]
     },
     "execution_count": 69,
     "metadata": {},
     "output_type": "execute_result"
    }
   ],
   "source": [
    "x_train.shape"
   ]
  },
  {
   "cell_type": "code",
   "execution_count": 70,
   "id": "0b65d1bd-ea45-4057-b795-8adf9b161b7d",
   "metadata": {},
   "outputs": [
    {
     "data": {
      "text/plain": [
       "(1584,)"
      ]
     },
     "execution_count": 70,
     "metadata": {},
     "output_type": "execute_result"
    }
   ],
   "source": [
    "x_test.shape"
   ]
  },
  {
   "cell_type": "code",
   "execution_count": 71,
   "id": "2f098513-1617-4cce-bb55-7db70fbbb419",
   "metadata": {},
   "outputs": [
    {
     "data": {
      "text/plain": [
       "4867    even tri email soni listen respons still dont ...\n",
       "4294    let call art amaz beauti copenhagen creativ co...\n",
       "1264    coffe love iphoneographi instagram iphonesia p...\n",
       "7258    ad kid hoodi collect product check … iphon cas...\n",
       "4772    sure love phone wont charg make call lock scre...\n",
       "                              ...                        \n",
       "4882    love rainsmel final spring rain smell spe inst...\n",
       "4391    well att appl truli fuck servic elig neither k...\n",
       "85      appl call made someth wrong right today make t...\n",
       "4209    beauti shop aliusaexpress iphon io app new edi...\n",
       "6306    pc exquisit squishi random charm iphon strap t...\n",
       "Name: tweet, Length: 6336, dtype: object"
      ]
     },
     "execution_count": 71,
     "metadata": {},
     "output_type": "execute_result"
    }
   ],
   "source": [
    "x_train"
   ]
  },
  {
   "cell_type": "code",
   "execution_count": 72,
   "id": "51fda98b-dc62-4f04-9ffa-70c81b19d78e",
   "metadata": {},
   "outputs": [
    {
     "data": {
      "text/plain": [
       "850     appl save itun account guy appl custom support...\n",
       "7496    yeah bb suck iphon rt mnstre love sinc ive bb ...\n",
       "588     happi announc entir storeus coupon code crosss...\n",
       "4419    got new phone make sure send text messag imess...\n",
       "3097         sick phone cant call anyon stupid iphon piss\n",
       "                              ...                        \n",
       "1736    iphon audio may suck near futur beat readi app...\n",
       "6357    new babi welcom home new phone samsung galaxi ...\n",
       "5402    let get beauti beautytip beauti app iphon fash...\n",
       "4782    photo alway awe p “tara” culverc laloc soni in...\n",
       "6231    thank appl make document cant open nonappl com...\n",
       "Name: tweet, Length: 1584, dtype: object"
      ]
     },
     "execution_count": 72,
     "metadata": {},
     "output_type": "execute_result"
    }
   ],
   "source": [
    "x_test"
   ]
  },
  {
   "cell_type": "code",
   "execution_count": 73,
   "id": "06d55d54-ae4a-4376-b1b5-42f9e9710251",
   "metadata": {},
   "outputs": [
    {
     "data": {
      "text/plain": [
       "4867    1\n",
       "4294    0\n",
       "1264    0\n",
       "7258    0\n",
       "4772    1\n",
       "       ..\n",
       "4882    0\n",
       "4391    1\n",
       "85      0\n",
       "4209    0\n",
       "6306    0\n",
       "Name: label, Length: 6336, dtype: int64"
      ]
     },
     "execution_count": 73,
     "metadata": {},
     "output_type": "execute_result"
    }
   ],
   "source": [
    "y_train"
   ]
  },
  {
   "cell_type": "code",
   "execution_count": 74,
   "id": "b2031ed8-c53d-4cd9-9b28-90fc10d8c0c8",
   "metadata": {},
   "outputs": [
    {
     "data": {
      "text/plain": [
       "850     0\n",
       "7496    1\n",
       "588     0\n",
       "4419    0\n",
       "3097    1\n",
       "       ..\n",
       "1736    1\n",
       "6357    0\n",
       "5402    0\n",
       "4782    0\n",
       "6231    1\n",
       "Name: label, Length: 1584, dtype: int64"
      ]
     },
     "execution_count": 74,
     "metadata": {},
     "output_type": "execute_result"
    }
   ],
   "source": [
    "y_test"
   ]
  },
  {
   "cell_type": "code",
   "execution_count": 75,
   "id": "47c4f2bb-5fdf-42ed-a8bb-8f299a0025f4",
   "metadata": {},
   "outputs": [],
   "source": [
    "def vectorizer(ds, vocabulary):\n",
    "    vectorized_list = []\n",
    "\n",
    "    for sentence in ds:\n",
    "        sentence_list = np.zeros(len(vocabulary))\n",
    "\n",
    "        for i in range(len(vocabulary)):\n",
    "            if vocabulary[i] in sentence.split():\n",
    "                sentence_list[i] = 1\n",
    "\n",
    "        vectorized_list.append(sentence_list)\n",
    "    vectorized_list_new = np.asarray(vectorized_list, dtype=np.float32)\n",
    "\n",
    "    return vectorized_list_new\n",
    "\n",
    "\n"
   ]
  },
  {
   "cell_type": "code",
   "execution_count": 76,
   "id": "f10e8897-e009-4232-98ce-578e3e5aea8e",
   "metadata": {},
   "outputs": [],
   "source": [
    "vectorized_x_train = vectorizer(x_train, tokens)"
   ]
  },
  {
   "cell_type": "code",
   "execution_count": 78,
   "id": "07504f36-d75c-4c82-8ecd-2f797359be32",
   "metadata": {},
   "outputs": [
    {
     "data": {
      "text/plain": [
       "array([0., 0., 0., ..., 0., 0., 0.], dtype=float32)"
      ]
     },
     "execution_count": 78,
     "metadata": {},
     "output_type": "execute_result"
    }
   ],
   "source": [
    "vectorized_x_train[0]"
   ]
  },
  {
   "cell_type": "code",
   "execution_count": 79,
   "id": "45852d90-a21d-4443-afb3-008435fe0b50",
   "metadata": {},
   "outputs": [],
   "source": [
    "vectorized_x_test = vectorizer(x_test, tokens)"
   ]
  },
  {
   "cell_type": "code",
   "execution_count": 80,
   "id": "4230d271-c7b0-4b04-aa4d-151a3a12a819",
   "metadata": {},
   "outputs": [
    {
     "data": {
      "text/plain": [
       "array([0., 0., 0., ..., 0., 0., 0.], dtype=float32)"
      ]
     },
     "execution_count": 80,
     "metadata": {},
     "output_type": "execute_result"
    }
   ],
   "source": [
    "vectorized_x_test[0]"
   ]
  },
  {
   "cell_type": "code",
   "execution_count": 82,
   "id": "268e84c6-a3b1-450e-96ad-6393b530a1fc",
   "metadata": {},
   "outputs": [
    {
     "data": {
      "text/plain": [
       "label\n",
       "0    4703\n",
       "1    1633\n",
       "Name: count, dtype: int64"
      ]
     },
     "execution_count": 82,
     "metadata": {},
     "output_type": "execute_result"
    }
   ],
   "source": [
    "y_train.value_counts()"
   ]
  },
  {
   "cell_type": "code",
   "execution_count": 84,
   "id": "fd2bdd81-f0e9-4194-906f-1c4f05c0c0ac",
   "metadata": {},
   "outputs": [
    {
     "data": {
      "text/plain": [
       "([<matplotlib.patches.Wedge at 0x22133660920>,\n",
       "  <matplotlib.patches.Wedge at 0x22133669790>],\n",
       " [Text(-0.758692089678396, 0.7964837180127594, 'positive'),\n",
       "  Text(0.7586920896783959, -0.7964837180127595, 'negative')])"
      ]
     },
     "execution_count": 84,
     "metadata": {},
     "output_type": "execute_result"
    },
    {
     "data": {
      "image/png": "[encoded data removed]",
      "text/plain": [
       "<Figure size 640x480 with 1 Axes>"
      ]
     },
     "metadata": {},
     "output_type": "display_data"
    }
   ],
   "source": [
    "plt.pie(np.array([y_train.value_counts()[0], y_train.value_counts()[1]]),labels=[\"positive\", \"negative\"])\n",
    "        "
   ]
  },
  {
   "cell_type": "code",
   "execution_count": 5,
   "id": "0a3ee98c-82bc-4a6c-8425-522e79efcc09",
   "metadata": {},
   "outputs": [
    {
     "name": "stdout",
     "output_type": "stream",
     "text": [
      "Requirement already satisfied: imbalanced-learn in c:\\users\\user\\desktop\\sentiment_analysis_project\\env\\lib\\site-packages (0.12.2)\n",
      "Requirement already satisfied: numpy>=1.17.3 in c:\\users\\user\\desktop\\sentiment_analysis_project\\env\\lib\\site-packages (from imbalanced-learn) (1.26.4)\n",
      "Requirement already satisfied: scipy>=1.5.0 in c:\\users\\user\\desktop\\sentiment_analysis_project\\env\\lib\\site-packages (from imbalanced-learn) (1.13.1)\n",
      "Requirement already satisfied: scikit-learn>=1.0.2 in c:\\users\\user\\desktop\\sentiment_analysis_project\\env\\lib\\site-packages (from imbalanced-learn) (1.5.0)\n",
      "Requirement already satisfied: joblib>=1.1.1 in c:\\users\\user\\desktop\\sentiment_analysis_project\\env\\lib\\site-packages (from imbalanced-learn) (1.4.2)\n",
      "Requirement already satisfied: threadpoolctl>=2.0.0 in c:\\users\\user\\desktop\\sentiment_analysis_project\\env\\lib\\site-packages (from imbalanced-learn) (3.5.0)\n"
     ]
    }
   ],
   "source": [
    "!pip install imbalanced-learn"
   ]
  },
  {
   "cell_type": "markdown",
   "id": "c4b1b3f8-e9a1-4afd-afbf-41c0226172d6",
   "metadata": {},
   "source": [
    "## HANDLE INBALANCED DATASET"
   ]
  },
  {
   "cell_type": "code",
   "execution_count": 3,
   "id": "fec21368-b3fc-4770-8eef-c1578a6818a2",
   "metadata": {},
   "outputs": [
    {
     "name": "stdout",
     "output_type": "stream",
     "text": [
      "Name: imbalanced-learn\n",
      "Version: 0.12.2\n",
      "Summary: Toolbox for imbalanced dataset in machine learning.\n",
      "Home-page: https://github.com/scikit-learn-contrib/imbalanced-learn\n",
      "Author: \n",
      "Author-email: \n",
      "License: MIT\n",
      "Location: C:\\Users\\User\\Desktop\\Sentiment_Analysis_Project\\env\\Lib\\site-packages\n",
      "Requires: joblib, numpy, scikit-learn, scipy, threadpoolctl\n",
      "Required-by: \n",
      "Note: you may need to restart the kernel to use updated packages.\n"
     ]
    }
   ],
   "source": [
    "pip show imbalanced-learn\n"
   ]
  },
  {
   "cell_type": "code",
   "execution_count": 2,
   "id": "2ed2ac78-8a4d-4d90-83af-78f5123c9c6b",
   "metadata": {},
   "outputs": [
    {
     "name": "stdout",
     "output_type": "stream",
     "text": [
      "Name: scikit-learn\n",
      "Version: 1.5.0\n",
      "Summary: A set of python modules for machine learning and data mining\n",
      "Home-page: https://scikit-learn.org\n",
      "Author: \n",
      "Author-email: \n",
      "License: new BSD\n",
      "Location: C:\\Users\\User\\Desktop\\Sentiment_Analysis_Project\\env\\Lib\\site-packages\n",
      "Requires: joblib, numpy, scipy, threadpoolctl\n",
      "Required-by: imbalanced-learn\n",
      "Note: you may need to restart the kernel to use updated packages.\n"
     ]
    }
   ],
   "source": [
    "pip show scikit-learn"
   ]
  },
  {
   "cell_type": "code",
   "execution_count": 7,
   "id": "f0e80a8e-03d9-4aac-8df2-01612a300390",
   "metadata": {},
   "outputs": [
    {
     "name": "stdout",
     "output_type": "stream",
     "text": [
      "Collecting imbalanced-learn==0.8.0\n",
      "  Downloading imbalanced_learn-0.8.0-py3-none-any.whl.metadata (11 kB)\n",
      "Requirement already satisfied: numpy>=1.13.3 in c:\\users\\user\\desktop\\sentiment_analysis_project\\env\\lib\\site-packages (from imbalanced-learn==0.8.0) (1.26.4)\n",
      "Requirement already satisfied: scipy>=0.19.1 in c:\\users\\user\\desktop\\sentiment_analysis_project\\env\\lib\\site-packages (from imbalanced-learn==0.8.0) (1.13.1)\n",
      "Requirement already satisfied: scikit-learn>=0.24 in c:\\users\\user\\desktop\\sentiment_analysis_project\\env\\lib\\site-packages (from imbalanced-learn==0.8.0) (1.5.0)\n",
      "Requirement already satisfied: joblib>=0.11 in c:\\users\\user\\desktop\\sentiment_analysis_project\\env\\lib\\site-packages (from imbalanced-learn==0.8.0) (1.4.2)\n",
      "Requirement already satisfied: threadpoolctl>=3.1.0 in c:\\users\\user\\desktop\\sentiment_analysis_project\\env\\lib\\site-packages (from scikit-learn>=0.24->imbalanced-learn==0.8.0) (3.5.0)\n",
      "Downloading imbalanced_learn-0.8.0-py3-none-any.whl (206 kB)\n",
      "   ---------------------------------------- 0.0/206.5 kB ? eta -:--:--\n",
      "   - -------------------------------------- 10.2/206.5 kB ? eta -:--:--\n",
      "   ----- --------------------------------- 30.7/206.5 kB 330.3 kB/s eta 0:00:01\n",
      "   ------- ------------------------------- 41.0/206.5 kB 281.8 kB/s eta 0:00:01\n",
      "   ------------- ------------------------- 71.7/206.5 kB 393.8 kB/s eta 0:00:01\n",
      "   -------------------- ----------------- 112.6/206.5 kB 547.6 kB/s eta 0:00:01\n",
      "   -------------------------------- ----- 174.1/206.5 kB 615.9 kB/s eta 0:00:01\n",
      "   -------------------------------------- 206.5/206.5 kB 660.6 kB/s eta 0:00:00\n",
      "Installing collected packages: imbalanced-learn\n",
      "  Attempting uninstall: imbalanced-learn\n",
      "    Found existing installation: imbalanced-learn 0.12.2\n",
      "    Uninstalling imbalanced-learn-0.12.2:\n",
      "      Successfully uninstalled imbalanced-learn-0.12.2\n",
      "Successfully installed imbalanced-learn-0.8.0\n",
      "Note: you may need to restart the kernel to use updated packages.\n"
     ]
    }
   ],
   "source": [
    "pip install imbalanced-learn==0.8.0\n"
   ]
  },
  {
   "cell_type": "code",
   "execution_count": 1,
   "id": "a5a5fefe-71a9-4028-b521-cbbb5715da5e",
   "metadata": {},
   "outputs": [
    {
     "name": "stdout",
     "output_type": "stream",
     "text": [
      "Name: scikit-learn\n",
      "Version: 1.5.0\n",
      "Summary: A set of python modules for machine learning and data mining\n",
      "Home-page: https://scikit-learn.org\n",
      "Author: \n",
      "Author-email: \n",
      "License: new BSD\n",
      "Location: C:\\Users\\User\\Desktop\\Sentiment_Analysis_Project\\env\\Lib\\site-packages\n",
      "Requires: joblib, numpy, scipy, threadpoolctl\n",
      "Required-by: imbalanced-learn\n",
      "Note: you may need to restart the kernel to use updated packages.\n"
     ]
    }
   ],
   "source": [
    "pip show scikit-learn"
   ]
  },
  {
   "cell_type": "code",
   "execution_count": 2,
   "id": "cf1510e1-b7fd-43a0-8d90-1ffef1a37207",
   "metadata": {},
   "outputs": [
    {
     "name": "stdout",
     "output_type": "stream",
     "text": [
      "Name: imbalanced-learn\n",
      "Version: 0.8.0\n",
      "Summary: Toolbox for imbalanced dataset in machine learning.\n",
      "Home-page: https://github.com/scikit-learn-contrib/imbalanced-learn\n",
      "Author: \n",
      "Author-email: \n",
      "License: MIT\n",
      "Location: C:\\Users\\User\\Desktop\\Sentiment_Analysis_Project\\env\\Lib\\site-packages\n",
      "Requires: joblib, numpy, scikit-learn, scipy\n",
      "Required-by: \n",
      "Note: you may need to restart the kernel to use updated packages.\n"
     ]
    }
   ],
   "source": [
    "pip show imbalanced-learn"
   ]
  },
  {
   "cell_type": "code",
   "execution_count": 3,
   "id": "299eefcf-0ba5-413c-9250-90d912ce1433",
   "metadata": {},
   "outputs": [
    {
     "name": "stdout",
     "output_type": "stream",
     "text": [
      "Collecting scikit-learn==0.24.2\n",
      "  Using cached scikit-learn-0.24.2.tar.gz (7.5 MB)\n",
      "  Installing build dependencies: started\n",
      "  Installing build dependencies: finished with status 'done'\n",
      "  Getting requirements to build wheel: started\n",
      "  Getting requirements to build wheel: finished with status 'done'\n",
      "  Preparing metadata (pyproject.toml): started\n",
      "  Preparing metadata (pyproject.toml): finished with status 'error'\n",
      "Note: you may need to restart the kernel to use updated packages.\n"
     ]
    },
    {
     "name": "stderr",
     "output_type": "stream",
     "text": [
      "  error: subprocess-exited-with-error\n",
      "  \n",
      "  Preparing metadata (pyproject.toml) did not run successfully.\n",
      "  exit code: 1\n",
      "  \n",
      "  [20 lines of output]\n",
      "  <string>:17: DeprecationWarning: pkg_resources is deprecated as an API. See https://setuptools.pypa.io/en/latest/pkg_resources.html\n",
      "  Partial import of sklearn during the build process.\n",
      "  Traceback (most recent call last):\n",
      "    File \"C:\\Users\\User\\Desktop\\Sentiment_Analysis_Project\\env\\Lib\\site-packages\\pip\\_vendor\\pyproject_hooks\\_in_process\\_in_process.py\", line 353, in <module>\n",
      "      main()\n",
      "    File \"C:\\Users\\User\\Desktop\\Sentiment_Analysis_Project\\env\\Lib\\site-packages\\pip\\_vendor\\pyproject_hooks\\_in_process\\_in_process.py\", line 335, in main\n",
      "      json_out['return_val'] = hook(**hook_input['kwargs'])\n",
      "                               ^^^^^^^^^^^^^^^^^^^^^^^^^^^^\n",
      "    File \"C:\\Users\\User\\Desktop\\Sentiment_Analysis_Project\\env\\Lib\\site-packages\\pip\\_vendor\\pyproject_hooks\\_in_process\\_in_process.py\", line 149, in prepare_metadata_for_build_wheel\n",
      "      return hook(metadata_directory, config_settings)\n",
      "             ^^^^^^^^^^^^^^^^^^^^^^^^^^^^^^^^^^^^^^^^^\n",
      "    File \"C:\\Users\\User\\AppData\\Local\\Temp\\pip-build-env-si0loape\\overlay\\Lib\\site-packages\\setuptools\\build_meta.py\", line 366, in prepare_metadata_for_build_wheel\n",
      "      self.run_setup()\n",
      "    File \"C:\\Users\\User\\AppData\\Local\\Temp\\pip-build-env-si0loape\\overlay\\Lib\\site-packages\\setuptools\\build_meta.py\", line 487, in run_setup\n",
      "      super().run_setup(setup_script=setup_script)\n",
      "    File \"C:\\Users\\User\\AppData\\Local\\Temp\\pip-build-env-si0loape\\overlay\\Lib\\site-packages\\setuptools\\build_meta.py\", line 311, in run_setup\n",
      "      exec(code, locals())\n",
      "    File \"<string>\", line 301, in <module>\n",
      "    File \"<string>\", line 293, in setup_package\n",
      "  ModuleNotFoundError: No module named 'numpy.distutils'\n",
      "  [end of output]\n",
      "  \n",
      "  note: This error originates from a subprocess, and is likely not a problem with pip.\n",
      "error: metadata-generation-failed\n",
      "\n",
      "Encountered error while generating package metadata.\n",
      "\n",
      "See above for output.\n",
      "\n",
      "note: This is an issue with the package mentioned above, not pip.\n",
      "hint: See above for details.\n"
     ]
    }
   ],
   "source": [
    "pip install scikit-learn==0.24.2\n"
   ]
  },
  {
   "cell_type": "code",
   "execution_count": 1,
   "id": "acc9cdef-4093-4210-b758-8fadb8566290",
   "metadata": {},
   "outputs": [
    {
     "name": "stdout",
     "output_type": "stream",
     "text": [
      "Name: scikit-learn\n",
      "Version: 1.5.0\n",
      "Summary: A set of python modules for machine learning and data mining\n",
      "Home-page: https://scikit-learn.org\n",
      "Author: \n",
      "Author-email: \n",
      "License: new BSD\n",
      "Location: C:\\Users\\User\\Desktop\\Sentiment_Analysis_Project\\env\\Lib\\site-packages\n",
      "Requires: joblib, numpy, scipy, threadpoolctl\n",
      "Required-by: imbalanced-learn\n",
      "Note: you may need to restart the kernel to use updated packages.\n"
     ]
    }
   ],
   "source": [
    "pip show scikit-learn"
   ]
  },
  {
   "cell_type": "code",
   "execution_count": 2,
   "id": "b1731d74-62be-4bae-97cd-fc822f6fdee0",
   "metadata": {},
   "outputs": [
    {
     "ename": "ImportError",
     "evalue": "cannot import name '_print_elapsed_time' from 'sklearn.utils' (C:\\Users\\User\\Desktop\\Sentiment_Analysis_Project\\env\\Lib\\site-packages\\sklearn\\utils\\__init__.py)",
     "output_type": "error",
     "traceback": [
      "\u001b[1;31m---------------------------------------------------------------------------\u001b[0m",
      "\u001b[1;31mImportError\u001b[0m                               Traceback (most recent call last)",
      "Cell \u001b[1;32mIn[2], line 1\u001b[0m\n\u001b[1;32m----> 1\u001b[0m \u001b[38;5;28;01mfrom\u001b[39;00m \u001b[38;5;21;01mimblearn\u001b[39;00m\u001b[38;5;21;01m.\u001b[39;00m\u001b[38;5;21;01mover_sampling\u001b[39;00m \u001b[38;5;28;01mimport\u001b[39;00m SMOTE\n\u001b[0;32m      2\u001b[0m smote \u001b[38;5;241m=\u001b[39m SMOTE()\n\u001b[0;32m      3\u001b[0m vectorized_x_train_smote, y_train_smote \u001b[38;5;241m=\u001b[39m smote\u001b[38;5;241m.\u001b[39mfit_resample(vectorized_x_train, y_train)\n",
      "File \u001b[1;32m~\\Desktop\\Sentiment_Analysis_Project\\env\\Lib\\site-packages\\imblearn\\__init__.py:38\u001b[0m\n\u001b[0;32m     35\u001b[0m \u001b[38;5;28;01mimport\u001b[39;00m \u001b[38;5;21;01mtypes\u001b[39;00m\n\u001b[0;32m     37\u001b[0m \u001b[38;5;28;01mfrom\u001b[39;00m \u001b[38;5;21;01m.\u001b[39;00m \u001b[38;5;28;01mimport\u001b[39;00m combine\n\u001b[1;32m---> 38\u001b[0m \u001b[38;5;28;01mfrom\u001b[39;00m \u001b[38;5;21;01m.\u001b[39;00m \u001b[38;5;28;01mimport\u001b[39;00m ensemble\n\u001b[0;32m     39\u001b[0m \u001b[38;5;28;01mfrom\u001b[39;00m \u001b[38;5;21;01m.\u001b[39;00m \u001b[38;5;28;01mimport\u001b[39;00m exceptions\n\u001b[0;32m     40\u001b[0m \u001b[38;5;28;01mfrom\u001b[39;00m \u001b[38;5;21;01m.\u001b[39;00m \u001b[38;5;28;01mimport\u001b[39;00m metrics\n",
      "File \u001b[1;32m~\\Desktop\\Sentiment_Analysis_Project\\env\\Lib\\site-packages\\imblearn\\ensemble\\__init__.py:6\u001b[0m\n\u001b[0;32m      1\u001b[0m \u001b[38;5;124;03m\"\"\"\u001b[39;00m\n\u001b[0;32m      2\u001b[0m \u001b[38;5;124;03mThe :mod:`imblearn.ensemble` module include methods generating\u001b[39;00m\n\u001b[0;32m      3\u001b[0m \u001b[38;5;124;03munder-sampled subsets combined inside an ensemble.\u001b[39;00m\n\u001b[0;32m      4\u001b[0m \u001b[38;5;124;03m\"\"\"\u001b[39;00m\n\u001b[1;32m----> 6\u001b[0m \u001b[38;5;28;01mfrom\u001b[39;00m \u001b[38;5;21;01m.\u001b[39;00m\u001b[38;5;21;01m_easy_ensemble\u001b[39;00m \u001b[38;5;28;01mimport\u001b[39;00m EasyEnsembleClassifier\n\u001b[0;32m      7\u001b[0m \u001b[38;5;28;01mfrom\u001b[39;00m \u001b[38;5;21;01m.\u001b[39;00m\u001b[38;5;21;01m_bagging\u001b[39;00m \u001b[38;5;28;01mimport\u001b[39;00m BalancedBaggingClassifier\n\u001b[0;32m      8\u001b[0m \u001b[38;5;28;01mfrom\u001b[39;00m \u001b[38;5;21;01m.\u001b[39;00m\u001b[38;5;21;01m_forest\u001b[39;00m \u001b[38;5;28;01mimport\u001b[39;00m BalancedRandomForestClassifier\n",
      "File \u001b[1;32m~\\Desktop\\Sentiment_Analysis_Project\\env\\Lib\\site-packages\\imblearn\\ensemble\\_easy_ensemble.py:21\u001b[0m\n\u001b[0;32m     19\u001b[0m \u001b[38;5;28;01mfrom\u001b[39;00m \u001b[38;5;21;01m.\u001b[39;00m\u001b[38;5;21;01m.\u001b[39;00m\u001b[38;5;21;01mutils\u001b[39;00m\u001b[38;5;21;01m.\u001b[39;00m\u001b[38;5;21;01m_docstring\u001b[39;00m \u001b[38;5;28;01mimport\u001b[39;00m _random_state_docstring\n\u001b[0;32m     20\u001b[0m \u001b[38;5;28;01mfrom\u001b[39;00m \u001b[38;5;21;01m.\u001b[39;00m\u001b[38;5;21;01m.\u001b[39;00m\u001b[38;5;21;01mutils\u001b[39;00m\u001b[38;5;21;01m.\u001b[39;00m\u001b[38;5;21;01m_validation\u001b[39;00m \u001b[38;5;28;01mimport\u001b[39;00m _deprecate_positional_args\n\u001b[1;32m---> 21\u001b[0m \u001b[38;5;28;01mfrom\u001b[39;00m \u001b[38;5;21;01m.\u001b[39;00m\u001b[38;5;21;01m.\u001b[39;00m\u001b[38;5;21;01mpipeline\u001b[39;00m \u001b[38;5;28;01mimport\u001b[39;00m Pipeline\n\u001b[0;32m     23\u001b[0m MAX_INT \u001b[38;5;241m=\u001b[39m np\u001b[38;5;241m.\u001b[39miinfo(np\u001b[38;5;241m.\u001b[39mint32)\u001b[38;5;241m.\u001b[39mmax\n\u001b[0;32m     26\u001b[0m \u001b[38;5;129m@Substitution\u001b[39m(\n\u001b[0;32m     27\u001b[0m     sampling_strategy\u001b[38;5;241m=\u001b[39mBaseUnderSampler\u001b[38;5;241m.\u001b[39m_sampling_strategy_docstring,\n\u001b[0;32m     28\u001b[0m     n_jobs\u001b[38;5;241m=\u001b[39m_n_jobs_docstring,\n\u001b[0;32m     29\u001b[0m     random_state\u001b[38;5;241m=\u001b[39m_random_state_docstring,\n\u001b[0;32m     30\u001b[0m )\n\u001b[0;32m     31\u001b[0m \u001b[38;5;28;01mclass\u001b[39;00m \u001b[38;5;21;01mEasyEnsembleClassifier\u001b[39;00m(BaggingClassifier):\n",
      "File \u001b[1;32m~\\Desktop\\Sentiment_Analysis_Project\\env\\Lib\\site-packages\\imblearn\\pipeline.py:17\u001b[0m\n\u001b[0;32m     15\u001b[0m \u001b[38;5;28;01mfrom\u001b[39;00m \u001b[38;5;21;01msklearn\u001b[39;00m \u001b[38;5;28;01mimport\u001b[39;00m pipeline\n\u001b[0;32m     16\u001b[0m \u001b[38;5;28;01mfrom\u001b[39;00m \u001b[38;5;21;01msklearn\u001b[39;00m\u001b[38;5;21;01m.\u001b[39;00m\u001b[38;5;21;01mbase\u001b[39;00m \u001b[38;5;28;01mimport\u001b[39;00m clone\n\u001b[1;32m---> 17\u001b[0m \u001b[38;5;28;01mfrom\u001b[39;00m \u001b[38;5;21;01msklearn\u001b[39;00m\u001b[38;5;21;01m.\u001b[39;00m\u001b[38;5;21;01mutils\u001b[39;00m \u001b[38;5;28;01mimport\u001b[39;00m _print_elapsed_time\n\u001b[0;32m     18\u001b[0m \u001b[38;5;28;01mfrom\u001b[39;00m \u001b[38;5;21;01msklearn\u001b[39;00m\u001b[38;5;21;01m.\u001b[39;00m\u001b[38;5;21;01mutils\u001b[39;00m\u001b[38;5;21;01m.\u001b[39;00m\u001b[38;5;21;01mmetaestimators\u001b[39;00m \u001b[38;5;28;01mimport\u001b[39;00m if_delegate_has_method\n\u001b[0;32m     19\u001b[0m \u001b[38;5;28;01mfrom\u001b[39;00m \u001b[38;5;21;01msklearn\u001b[39;00m\u001b[38;5;21;01m.\u001b[39;00m\u001b[38;5;21;01mutils\u001b[39;00m\u001b[38;5;21;01m.\u001b[39;00m\u001b[38;5;21;01mvalidation\u001b[39;00m \u001b[38;5;28;01mimport\u001b[39;00m check_memory\n",
      "\u001b[1;31mImportError\u001b[0m: cannot import name '_print_elapsed_time' from 'sklearn.utils' (C:\\Users\\User\\Desktop\\Sentiment_Analysis_Project\\env\\Lib\\site-packages\\sklearn\\utils\\__init__.py)"
     ]
    }
   ],
   "source": [
    "from imblearn.over_sampling import SMOTE\n",
    "smote = SMOTE()\n",
    "vectorized_x_train_smote, y_train_smote = smote.fit_resample(vectorized_x_train, y_train)\n",
    "print(vectorized_x_train_smote.shape, y_train_smote.shape)"
   ]
  },
  {
   "cell_type": "code",
   "execution_count": null,
   "id": "3cec3766-efbd-4bcd-96a3-af25b9b31193",
   "metadata": {},
   "outputs": [],
   "source": []
  }
 ],
 "metadata": {
  "kernelspec": {
   "display_name": "Python 3 (ipykernel)",
   "language": "python",
   "name": "python3"
  },
  "language_info": {
   "codemirror_mode": {
    "name": "ipython",
    "version": 3
   },
   "file_extension": ".py",
   "mimetype": "text/x-python",
   "name": "python",
   "nbconvert_exporter": "python",
   "pygments_lexer": "ipython3",
   "version": "3.12.3"
  }
 },
 "nbformat": 4,
 "nbformat_minor": 5
}
